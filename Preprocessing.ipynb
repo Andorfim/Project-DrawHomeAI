{
 "nbformat": 4,
 "nbformat_minor": 0,
 "metadata": {
  "colab": {
   "provenance": [],
   "authorship_tag": "ABX9TyNCuYAxncfq3L9PHGiAhqUV"
  },
  "kernelspec": {
   "name": "python3",
   "display_name": "Python 3"
  },
  "language_info": {
   "name": "python"
  }
 },
 "cells": [
  {
   "cell_type": "markdown",
   "source": [
    "## Загрузка данных\n",
    "Подключение к гугл диску"
   ],
   "metadata": {
    "id": "8P2-HO4pnTZ6"
   }
  },
  {
   "cell_type": "code",
   "source": [
    "from google.colab import drive\n",
    "drive.mount('/content/drive')"
   ],
   "metadata": {
    "colab": {
     "base_uri": "https://localhost:8080/"
    },
    "id": "DRQKTTC8K6PB",
    "executionInfo": {
     "status": "ok",
     "timestamp": 1687215452805,
     "user_tz": -180,
     "elapsed": 5765,
     "user": {
      "displayName": "Данила Власов",
      "userId": "10847520665763514044"
     }
    },
    "outputId": "e3a5b410-57de-447b-86d6-1db2f35dc9e8"
   },
   "execution_count": null,
   "outputs": [
    {
     "output_type": "stream",
     "name": "stdout",
     "text": [
      "Drive already mounted at /content/drive; to attempt to forcibly remount, call drive.mount(\"/content/drive\", force_remount=True).\n"
     ]
    }
   ]
  },
  {
   "cell_type": "markdown",
   "source": [
    "Загрузка сформерованного нами и сохранненого датафрейма"
   ],
   "metadata": {
    "id": "QuCwLOYDYw2X"
   }
  },
  {
   "cell_type": "code",
   "source": [
    "import pandas as pd\n",
    "\n",
    "csv_file_path = '/content/drive/MyDrive/Colab Notebooks/Study/DrawHomeAI/Subsets/updated_filtered_df_tw6 - updated_filtered_df_tw6.csv'\n",
    "# Путь к CSV-файлу на Google Drive\n",
    "\n",
    "df = pd.read_csv(csv_file_path)  # Загрузка данных из CSV-файла в объект DataFrame"
   ],
   "metadata": {
    "id": "CBM9zmjFK7-N"
   },
   "execution_count": null,
   "outputs": []
  },
  {
   "cell_type": "code",
   "source": [
    "df['descr'] = df['descr'].apply(lambda x: x.lower())  # Преобразование значений в столбце 'descr' к нижнему регистру\n",
    "df.head(10)  # Вывод первых 10 строк DataFrame"
   ],
   "metadata": {
    "colab": {
     "base_uri": "https://localhost:8080/",
     "height": 581
    },
    "id": "PjL-cu9-LiTI",
    "executionInfo": {
     "status": "ok",
     "timestamp": 1687215452806,
     "user_tz": -180,
     "elapsed": 13,
     "user": {
      "displayName": "Данила Власов",
      "userId": "10847520665763514044"
     }
    },
    "outputId": "949cc550-6448-488d-866c-f8079b33296c"
   },
   "execution_count": null,
   "outputs": [
    {
     "output_type": "execute_result",
     "data": {
      "text/plain": [
       "                                                 img  \\\n",
       "0  https://st.hzcdn.com/fimgs/pictures/exteriors/...   \n",
       "1  https://st.hzcdn.com/fimgs/pictures/exteriors/...   \n",
       "2  https://st.hzcdn.com/fimgs/pictures/house-exte...   \n",
       "3  https://st.hzcdn.com/fimgs/pictures/exteriors/...   \n",
       "4  https://st.hzcdn.com/fimgs/pictures/exteriors/...   \n",
       "5  https://st.hzcdn.com/fimgs/pictures/exteriors/...   \n",
       "6  https://st.hzcdn.com/fimgs/pictures/exteriors/...   \n",
       "7  https://st.hzcdn.com/fimgs/pictures/exteriors/...   \n",
       "8  https://st.hzcdn.com/fimgs/pictures/exteriors/...   \n",
       "9  https://st.hzcdn.com/fimgs/pictures/家の外観/豊橋市-八...   \n",
       "\n",
       "                                               descr  \n",
       "0  cottage white two-story wood exterior home rem...  \n",
       "1  beach style brown three-story wood and shingle...  \n",
       "2  a large minimalist multicolored three-story st...  \n",
       "3  large contemporary multicolored three-story br...  \n",
       "4  large elegant red three-story brick exterior h...  \n",
       "5  a large mediterranean white two-story stucco h...  \n",
       "6  a mid-sized arts and crafts gray two-story woo...  \n",
       "7  mid-sized transitional gray three-story wood e...  \n",
       "8  a mid-sized coastal gray two-story mixed sidin...  \n",
       "9  a large danish white two-story mixed siding ho...  "
      ],
      "text/html": [
       "\n",
       "  <div id=\"df-0edb60ed-84fe-4f6f-8dc9-bb2d8e4d29f9\">\n",
       "    <div class=\"colab-df-container\">\n",
       "      <div>\n",
       "<style scoped>\n",
       "    .dataframe tbody tr th:only-of-type {\n",
       "        vertical-align: middle;\n",
       "    }\n",
       "\n",
       "    .dataframe tbody tr th {\n",
       "        vertical-align: top;\n",
       "    }\n",
       "\n",
       "    .dataframe thead th {\n",
       "        text-align: right;\n",
       "    }\n",
       "</style>\n",
       "<table border=\"1\" class=\"dataframe\">\n",
       "  <thead>\n",
       "    <tr style=\"text-align: right;\">\n",
       "      <th></th>\n",
       "      <th>img</th>\n",
       "      <th>descr</th>\n",
       "    </tr>\n",
       "  </thead>\n",
       "  <tbody>\n",
       "    <tr>\n",
       "      <th>0</th>\n",
       "      <td>https://st.hzcdn.com/fimgs/pictures/exteriors/...</td>\n",
       "      <td>cottage white two-story wood exterior home rem...</td>\n",
       "    </tr>\n",
       "    <tr>\n",
       "      <th>1</th>\n",
       "      <td>https://st.hzcdn.com/fimgs/pictures/exteriors/...</td>\n",
       "      <td>beach style brown three-story wood and shingle...</td>\n",
       "    </tr>\n",
       "    <tr>\n",
       "      <th>2</th>\n",
       "      <td>https://st.hzcdn.com/fimgs/pictures/house-exte...</td>\n",
       "      <td>a large minimalist multicolored three-story st...</td>\n",
       "    </tr>\n",
       "    <tr>\n",
       "      <th>3</th>\n",
       "      <td>https://st.hzcdn.com/fimgs/pictures/exteriors/...</td>\n",
       "      <td>large contemporary multicolored three-story br...</td>\n",
       "    </tr>\n",
       "    <tr>\n",
       "      <th>4</th>\n",
       "      <td>https://st.hzcdn.com/fimgs/pictures/exteriors/...</td>\n",
       "      <td>large elegant red three-story brick exterior h...</td>\n",
       "    </tr>\n",
       "    <tr>\n",
       "      <th>5</th>\n",
       "      <td>https://st.hzcdn.com/fimgs/pictures/exteriors/...</td>\n",
       "      <td>a large mediterranean white two-story stucco h...</td>\n",
       "    </tr>\n",
       "    <tr>\n",
       "      <th>6</th>\n",
       "      <td>https://st.hzcdn.com/fimgs/pictures/exteriors/...</td>\n",
       "      <td>a mid-sized arts and crafts gray two-story woo...</td>\n",
       "    </tr>\n",
       "    <tr>\n",
       "      <th>7</th>\n",
       "      <td>https://st.hzcdn.com/fimgs/pictures/exteriors/...</td>\n",
       "      <td>mid-sized transitional gray three-story wood e...</td>\n",
       "    </tr>\n",
       "    <tr>\n",
       "      <th>8</th>\n",
       "      <td>https://st.hzcdn.com/fimgs/pictures/exteriors/...</td>\n",
       "      <td>a mid-sized coastal gray two-story mixed sidin...</td>\n",
       "    </tr>\n",
       "    <tr>\n",
       "      <th>9</th>\n",
       "      <td>https://st.hzcdn.com/fimgs/pictures/家の外観/豊橋市-八...</td>\n",
       "      <td>a large danish white two-story mixed siding ho...</td>\n",
       "    </tr>\n",
       "  </tbody>\n",
       "</table>\n",
       "</div>\n",
       "      <button class=\"colab-df-convert\" onclick=\"convertToInteractive('df-0edb60ed-84fe-4f6f-8dc9-bb2d8e4d29f9')\"\n",
       "              title=\"Convert this dataframe to an interactive table.\"\n",
       "              style=\"display:none;\">\n",
       "        \n",
       "  <svg xmlns=\"http://www.w3.org/2000/svg\" height=\"24px\"viewBox=\"0 0 24 24\"\n",
       "       width=\"24px\">\n",
       "    <path d=\"M0 0h24v24H0V0z\" fill=\"none\"/>\n",
       "    <path d=\"M18.56 5.44l.94 2.06.94-2.06 2.06-.94-2.06-.94-.94-2.06-.94 2.06-2.06.94zm-11 1L8.5 8.5l.94-2.06 2.06-.94-2.06-.94L8.5 2.5l-.94 2.06-2.06.94zm10 10l.94 2.06.94-2.06 2.06-.94-2.06-.94-.94-2.06-.94 2.06-2.06.94z\"/><path d=\"M17.41 7.96l-1.37-1.37c-.4-.4-.92-.59-1.43-.59-.52 0-1.04.2-1.43.59L10.3 9.45l-7.72 7.72c-.78.78-.78 2.05 0 2.83L4 21.41c.39.39.9.59 1.41.59.51 0 1.02-.2 1.41-.59l7.78-7.78 2.81-2.81c.8-.78.8-2.07 0-2.86zM5.41 20L4 18.59l7.72-7.72 1.47 1.35L5.41 20z\"/>\n",
       "  </svg>\n",
       "      </button>\n",
       "      \n",
       "  <style>\n",
       "    .colab-df-container {\n",
       "      display:flex;\n",
       "      flex-wrap:wrap;\n",
       "      gap: 12px;\n",
       "    }\n",
       "\n",
       "    .colab-df-convert {\n",
       "      background-color: #E8F0FE;\n",
       "      border: none;\n",
       "      border-radius: 50%;\n",
       "      cursor: pointer;\n",
       "      display: none;\n",
       "      fill: #1967D2;\n",
       "      height: 32px;\n",
       "      padding: 0 0 0 0;\n",
       "      width: 32px;\n",
       "    }\n",
       "\n",
       "    .colab-df-convert:hover {\n",
       "      background-color: #E2EBFA;\n",
       "      box-shadow: 0px 1px 2px rgba(60, 64, 67, 0.3), 0px 1px 3px 1px rgba(60, 64, 67, 0.15);\n",
       "      fill: #174EA6;\n",
       "    }\n",
       "\n",
       "    [theme=dark] .colab-df-convert {\n",
       "      background-color: #3B4455;\n",
       "      fill: #D2E3FC;\n",
       "    }\n",
       "\n",
       "    [theme=dark] .colab-df-convert:hover {\n",
       "      background-color: #434B5C;\n",
       "      box-shadow: 0px 1px 3px 1px rgba(0, 0, 0, 0.15);\n",
       "      filter: drop-shadow(0px 1px 2px rgba(0, 0, 0, 0.3));\n",
       "      fill: #FFFFFF;\n",
       "    }\n",
       "  </style>\n",
       "\n",
       "      <script>\n",
       "        const buttonEl =\n",
       "          document.querySelector('#df-0edb60ed-84fe-4f6f-8dc9-bb2d8e4d29f9 button.colab-df-convert');\n",
       "        buttonEl.style.display =\n",
       "          google.colab.kernel.accessAllowed ? 'block' : 'none';\n",
       "\n",
       "        async function convertToInteractive(key) {\n",
       "          const element = document.querySelector('#df-0edb60ed-84fe-4f6f-8dc9-bb2d8e4d29f9');\n",
       "          const dataTable =\n",
       "            await google.colab.kernel.invokeFunction('convertToInteractive',\n",
       "                                                     [key], {});\n",
       "          if (!dataTable) return;\n",
       "\n",
       "          const docLinkHtml = 'Like what you see? Visit the ' +\n",
       "            '<a target=\"_blank\" href=https://colab.research.google.com/notebooks/data_table.ipynb>data table notebook</a>'\n",
       "            + ' to learn more about interactive tables.';\n",
       "          element.innerHTML = '';\n",
       "          dataTable['output_type'] = 'display_data';\n",
       "          await google.colab.output.renderOutput(dataTable, element);\n",
       "          const docLink = document.createElement('div');\n",
       "          docLink.innerHTML = docLinkHtml;\n",
       "          element.appendChild(docLink);\n",
       "        }\n",
       "      </script>\n",
       "    </div>\n",
       "  </div>\n",
       "  "
      ]
     },
     "metadata": {},
     "execution_count": 21
    }
   ]
  },
  {
   "cell_type": "markdown",
   "source": [
    "## Удаление первых слов\n",
    "Удаление слов стоящих в тексте до определенных стоп слов"
   ],
   "metadata": {
    "id": "z4zbYGteng-v"
   }
  },
  {
   "cell_type": "code",
   "source": [
    "stop_words = ['large', 'mid-sized', 'small']\n",
    "indices_to_remove = []\n",
    "\n",
    "def remove_chars(text):\n",
    "    words = text.split()  # Разделение текста на отдельные слова\n",
    "    for stop_word in stop_words:\n",
    "        if stop_word in words:  # Проверка, содержит ли текст стоп слово\n",
    "            first_occurrence_index = words.index(stop_word)  # Нахождение индекса первого вхождения стоп слова\n",
    "            return ' '.join(words[first_occurrence_index:])  # Возвращение оставшихся слов после стоп слова\n",
    "    indices_to_remove.append(df.index[df['descr'] == text][0])  # Добавление индекса строки для удаления\n",
    "    return text\n",
    "\n",
    "df_copy = df.copy()  # Создание копии исходного DataFrame\n",
    "df_copy['descr'] = df_copy['descr'].apply(remove_chars)  # Применение функции remove_chars к столбцу 'descr' в DataFrame\n",
    "df_copy.head(15)  # Вывод первых 15 строк DataFrame с обновленным столбцом 'descr'\n"
   ],
   "metadata": {
    "colab": {
     "base_uri": "https://localhost:8080/",
     "height": 824
    },
    "id": "kWQ_UnlNM7Ha",
    "executionInfo": {
     "status": "ok",
     "timestamp": 1687215452807,
     "user_tz": -180,
     "elapsed": 13,
     "user": {
      "displayName": "Данила Власов",
      "userId": "10847520665763514044"
     }
    },
    "outputId": "4f9fb0ea-19b7-4545-f025-506b88d881f5"
   },
   "execution_count": null,
   "outputs": [
    {
     "output_type": "execute_result",
     "data": {
      "text/plain": [
       "                                                  img  \\\n",
       "0   https://st.hzcdn.com/fimgs/pictures/exteriors/...   \n",
       "1   https://st.hzcdn.com/fimgs/pictures/exteriors/...   \n",
       "2   https://st.hzcdn.com/fimgs/pictures/house-exte...   \n",
       "3   https://st.hzcdn.com/fimgs/pictures/exteriors/...   \n",
       "4   https://st.hzcdn.com/fimgs/pictures/exteriors/...   \n",
       "5   https://st.hzcdn.com/fimgs/pictures/exteriors/...   \n",
       "6   https://st.hzcdn.com/fimgs/pictures/exteriors/...   \n",
       "7   https://st.hzcdn.com/fimgs/pictures/exteriors/...   \n",
       "8   https://st.hzcdn.com/fimgs/pictures/exteriors/...   \n",
       "9   https://st.hzcdn.com/fimgs/pictures/家の外観/豊橋市-八...   \n",
       "10  https://st.hzcdn.com/fimgs/pictures/exteriors/...   \n",
       "11  https://st.hzcdn.com/fimgs/pictures/exteriors/...   \n",
       "12  https://st.hzcdn.com/fimgs/pictures/exteriors/...   \n",
       "13  https://st.hzcdn.com/fimgs/pictures/exteriors/...   \n",
       "14  https://st.hzcdn.com/fimgs/pictures/家の外観/豊川市-八...   \n",
       "\n",
       "                                                descr  \n",
       "0   cottage white two-story wood exterior home rem...  \n",
       "1   beach style brown three-story wood and shingle...  \n",
       "2   large minimalist multicolored three-story stuc...  \n",
       "3   large contemporary multicolored three-story br...  \n",
       "4   large elegant red three-story brick exterior h...  \n",
       "5   large mediterranean white two-story stucco hou...  \n",
       "6   mid-sized arts and crafts gray two-story wood ...  \n",
       "7   mid-sized transitional gray three-story wood e...  \n",
       "8   mid-sized coastal gray two-story mixed siding ...  \n",
       "9   large danish white two-story mixed siding hous...  \n",
       "10  home is huge on presence with a modern cottage...  \n",
       "11  mixed red stained and brown softwood siding.la...  \n",
       "12  mountain style beige two-story stucco house ex...  \n",
       "13  large modern brown two-story wood exterior hom...  \n",
       "14  large scandinavian white two-story mixed sidin...  "
      ],
      "text/html": [
       "\n",
       "  <div id=\"df-9abe6cae-3273-4c34-9977-ba00d75d23c3\">\n",
       "    <div class=\"colab-df-container\">\n",
       "      <div>\n",
       "<style scoped>\n",
       "    .dataframe tbody tr th:only-of-type {\n",
       "        vertical-align: middle;\n",
       "    }\n",
       "\n",
       "    .dataframe tbody tr th {\n",
       "        vertical-align: top;\n",
       "    }\n",
       "\n",
       "    .dataframe thead th {\n",
       "        text-align: right;\n",
       "    }\n",
       "</style>\n",
       "<table border=\"1\" class=\"dataframe\">\n",
       "  <thead>\n",
       "    <tr style=\"text-align: right;\">\n",
       "      <th></th>\n",
       "      <th>img</th>\n",
       "      <th>descr</th>\n",
       "    </tr>\n",
       "  </thead>\n",
       "  <tbody>\n",
       "    <tr>\n",
       "      <th>0</th>\n",
       "      <td>https://st.hzcdn.com/fimgs/pictures/exteriors/...</td>\n",
       "      <td>cottage white two-story wood exterior home rem...</td>\n",
       "    </tr>\n",
       "    <tr>\n",
       "      <th>1</th>\n",
       "      <td>https://st.hzcdn.com/fimgs/pictures/exteriors/...</td>\n",
       "      <td>beach style brown three-story wood and shingle...</td>\n",
       "    </tr>\n",
       "    <tr>\n",
       "      <th>2</th>\n",
       "      <td>https://st.hzcdn.com/fimgs/pictures/house-exte...</td>\n",
       "      <td>large minimalist multicolored three-story stuc...</td>\n",
       "    </tr>\n",
       "    <tr>\n",
       "      <th>3</th>\n",
       "      <td>https://st.hzcdn.com/fimgs/pictures/exteriors/...</td>\n",
       "      <td>large contemporary multicolored three-story br...</td>\n",
       "    </tr>\n",
       "    <tr>\n",
       "      <th>4</th>\n",
       "      <td>https://st.hzcdn.com/fimgs/pictures/exteriors/...</td>\n",
       "      <td>large elegant red three-story brick exterior h...</td>\n",
       "    </tr>\n",
       "    <tr>\n",
       "      <th>5</th>\n",
       "      <td>https://st.hzcdn.com/fimgs/pictures/exteriors/...</td>\n",
       "      <td>large mediterranean white two-story stucco hou...</td>\n",
       "    </tr>\n",
       "    <tr>\n",
       "      <th>6</th>\n",
       "      <td>https://st.hzcdn.com/fimgs/pictures/exteriors/...</td>\n",
       "      <td>mid-sized arts and crafts gray two-story wood ...</td>\n",
       "    </tr>\n",
       "    <tr>\n",
       "      <th>7</th>\n",
       "      <td>https://st.hzcdn.com/fimgs/pictures/exteriors/...</td>\n",
       "      <td>mid-sized transitional gray three-story wood e...</td>\n",
       "    </tr>\n",
       "    <tr>\n",
       "      <th>8</th>\n",
       "      <td>https://st.hzcdn.com/fimgs/pictures/exteriors/...</td>\n",
       "      <td>mid-sized coastal gray two-story mixed siding ...</td>\n",
       "    </tr>\n",
       "    <tr>\n",
       "      <th>9</th>\n",
       "      <td>https://st.hzcdn.com/fimgs/pictures/家の外観/豊橋市-八...</td>\n",
       "      <td>large danish white two-story mixed siding hous...</td>\n",
       "    </tr>\n",
       "    <tr>\n",
       "      <th>10</th>\n",
       "      <td>https://st.hzcdn.com/fimgs/pictures/exteriors/...</td>\n",
       "      <td>home is huge on presence with a modern cottage...</td>\n",
       "    </tr>\n",
       "    <tr>\n",
       "      <th>11</th>\n",
       "      <td>https://st.hzcdn.com/fimgs/pictures/exteriors/...</td>\n",
       "      <td>mixed red stained and brown softwood siding.la...</td>\n",
       "    </tr>\n",
       "    <tr>\n",
       "      <th>12</th>\n",
       "      <td>https://st.hzcdn.com/fimgs/pictures/exteriors/...</td>\n",
       "      <td>mountain style beige two-story stucco house ex...</td>\n",
       "    </tr>\n",
       "    <tr>\n",
       "      <th>13</th>\n",
       "      <td>https://st.hzcdn.com/fimgs/pictures/exteriors/...</td>\n",
       "      <td>large modern brown two-story wood exterior hom...</td>\n",
       "    </tr>\n",
       "    <tr>\n",
       "      <th>14</th>\n",
       "      <td>https://st.hzcdn.com/fimgs/pictures/家の外観/豊川市-八...</td>\n",
       "      <td>large scandinavian white two-story mixed sidin...</td>\n",
       "    </tr>\n",
       "  </tbody>\n",
       "</table>\n",
       "</div>\n",
       "      <button class=\"colab-df-convert\" onclick=\"convertToInteractive('df-9abe6cae-3273-4c34-9977-ba00d75d23c3')\"\n",
       "              title=\"Convert this dataframe to an interactive table.\"\n",
       "              style=\"display:none;\">\n",
       "        \n",
       "  <svg xmlns=\"http://www.w3.org/2000/svg\" height=\"24px\"viewBox=\"0 0 24 24\"\n",
       "       width=\"24px\">\n",
       "    <path d=\"M0 0h24v24H0V0z\" fill=\"none\"/>\n",
       "    <path d=\"M18.56 5.44l.94 2.06.94-2.06 2.06-.94-2.06-.94-.94-2.06-.94 2.06-2.06.94zm-11 1L8.5 8.5l.94-2.06 2.06-.94-2.06-.94L8.5 2.5l-.94 2.06-2.06.94zm10 10l.94 2.06.94-2.06 2.06-.94-2.06-.94-.94-2.06-.94 2.06-2.06.94z\"/><path d=\"M17.41 7.96l-1.37-1.37c-.4-.4-.92-.59-1.43-.59-.52 0-1.04.2-1.43.59L10.3 9.45l-7.72 7.72c-.78.78-.78 2.05 0 2.83L4 21.41c.39.39.9.59 1.41.59.51 0 1.02-.2 1.41-.59l7.78-7.78 2.81-2.81c.8-.78.8-2.07 0-2.86zM5.41 20L4 18.59l7.72-7.72 1.47 1.35L5.41 20z\"/>\n",
       "  </svg>\n",
       "      </button>\n",
       "      \n",
       "  <style>\n",
       "    .colab-df-container {\n",
       "      display:flex;\n",
       "      flex-wrap:wrap;\n",
       "      gap: 12px;\n",
       "    }\n",
       "\n",
       "    .colab-df-convert {\n",
       "      background-color: #E8F0FE;\n",
       "      border: none;\n",
       "      border-radius: 50%;\n",
       "      cursor: pointer;\n",
       "      display: none;\n",
       "      fill: #1967D2;\n",
       "      height: 32px;\n",
       "      padding: 0 0 0 0;\n",
       "      width: 32px;\n",
       "    }\n",
       "\n",
       "    .colab-df-convert:hover {\n",
       "      background-color: #E2EBFA;\n",
       "      box-shadow: 0px 1px 2px rgba(60, 64, 67, 0.3), 0px 1px 3px 1px rgba(60, 64, 67, 0.15);\n",
       "      fill: #174EA6;\n",
       "    }\n",
       "\n",
       "    [theme=dark] .colab-df-convert {\n",
       "      background-color: #3B4455;\n",
       "      fill: #D2E3FC;\n",
       "    }\n",
       "\n",
       "    [theme=dark] .colab-df-convert:hover {\n",
       "      background-color: #434B5C;\n",
       "      box-shadow: 0px 1px 3px 1px rgba(0, 0, 0, 0.15);\n",
       "      filter: drop-shadow(0px 1px 2px rgba(0, 0, 0, 0.3));\n",
       "      fill: #FFFFFF;\n",
       "    }\n",
       "  </style>\n",
       "\n",
       "      <script>\n",
       "        const buttonEl =\n",
       "          document.querySelector('#df-9abe6cae-3273-4c34-9977-ba00d75d23c3 button.colab-df-convert');\n",
       "        buttonEl.style.display =\n",
       "          google.colab.kernel.accessAllowed ? 'block' : 'none';\n",
       "\n",
       "        async function convertToInteractive(key) {\n",
       "          const element = document.querySelector('#df-9abe6cae-3273-4c34-9977-ba00d75d23c3');\n",
       "          const dataTable =\n",
       "            await google.colab.kernel.invokeFunction('convertToInteractive',\n",
       "                                                     [key], {});\n",
       "          if (!dataTable) return;\n",
       "\n",
       "          const docLinkHtml = 'Like what you see? Visit the ' +\n",
       "            '<a target=\"_blank\" href=https://colab.research.google.com/notebooks/data_table.ipynb>data table notebook</a>'\n",
       "            + ' to learn more about interactive tables.';\n",
       "          element.innerHTML = '';\n",
       "          dataTable['output_type'] = 'display_data';\n",
       "          await google.colab.output.renderOutput(dataTable, element);\n",
       "          const docLink = document.createElement('div');\n",
       "          docLink.innerHTML = docLinkHtml;\n",
       "          element.appendChild(docLink);\n",
       "        }\n",
       "      </script>\n",
       "    </div>\n",
       "  </div>\n",
       "  "
      ]
     },
     "metadata": {},
     "execution_count": 22
    }
   ]
  },
  {
   "cell_type": "code",
   "source": [
    "len(indices_to_remove)"
   ],
   "metadata": {
    "colab": {
     "base_uri": "https://localhost:8080/"
    },
    "id": "4sECanpaOpCx",
    "executionInfo": {
     "status": "ok",
     "timestamp": 1687215452807,
     "user_tz": -180,
     "elapsed": 12,
     "user": {
      "displayName": "Данила Власов",
      "userId": "10847520665763514044"
     }
    },
    "outputId": "699b52b7-b2c6-47d7-c199-15fb6c3e3bdb"
   },
   "execution_count": null,
   "outputs": [
    {
     "output_type": "execute_result",
     "data": {
      "text/plain": [
       "553"
      ]
     },
     "metadata": {},
     "execution_count": 23
    }
   ]
  },
  {
   "cell_type": "markdown",
   "source": [
    "Разделение на правильный датафрейм со стоп словами и на неправильный, с которым нужно еще поработать"
   ],
   "metadata": {
    "id": "b5-_lWSHZoP2"
   }
  },
  {
   "cell_type": "code",
   "source": [
    "df_right = df_copy.drop(indices_to_remove)  # Создание DataFrame с правильными значениями путем удаления строк с индексами из списка\n",
    "df_wrong = df_copy.loc[indices_to_remove]  # Создание DataFrame с неправильными значениями путем выбора строк с индексами из списка\n",
    "df_right['descr'].head(15), df_wrong['descr'].head(15)  # Вывод первых 15 значений столбца 'descr' из DataFrame с правильными и неправильными значениями"
   ],
   "metadata": {
    "colab": {
     "base_uri": "https://localhost:8080/"
    },
    "id": "FVe6B7aGO6aM",
    "executionInfo": {
     "status": "ok",
     "timestamp": 1687215452808,
     "user_tz": -180,
     "elapsed": 11,
     "user": {
      "displayName": "Данила Власов",
      "userId": "10847520665763514044"
     }
    },
    "outputId": "9e0ca2fd-b00d-49ac-b38e-558a46d684ad"
   },
   "execution_count": null,
   "outputs": [
    {
     "output_type": "execute_result",
     "data": {
      "text/plain": [
       "(2     large minimalist multicolored three-story stuc...\n",
       " 3     large contemporary multicolored three-story br...\n",
       " 4     large elegant red three-story brick exterior h...\n",
       " 5     large mediterranean white two-story stucco hou...\n",
       " 6     mid-sized arts and crafts gray two-story wood ...\n",
       " 7     mid-sized transitional gray three-story wood e...\n",
       " 8     mid-sized coastal gray two-story mixed siding ...\n",
       " 9     large danish white two-story mixed siding hous...\n",
       " 13    large modern brown two-story wood exterior hom...\n",
       " 14    large scandinavian white two-story mixed sidin...\n",
       " 15    mid-sized contemporary multicolored three-stor...\n",
       " 16    mid-sized arts and crafts gray two-story wood ...\n",
       " 17    mid-sized minimalist beige two-story brick and...\n",
       " 18    mid-sized arts and crafts beige one-story bric...\n",
       " 19    mid-sized elegant gray two-story wood exterior...\n",
       " Name: descr, dtype: object,\n",
       " 0      cottage white two-story wood exterior home rem...\n",
       " 1      beach style brown three-story wood and shingle...\n",
       " 10     home is huge on presence with a modern cottage...\n",
       " 11     mixed red stained and brown softwood siding.la...\n",
       " 12     mountain style beige two-story stucco house ex...\n",
       " 35     bocce balllarge modern white one-story stucco ...\n",
       " 105    medium one-storey house with siding, black and...\n",
       " 131    single and two storey rear extensionlarge cont...\n",
       " 201    custom beach home with a screened porch and tw...\n",
       " 217    view from wild flower meadowlarge elegant brow...\n",
       " 221    side porchlarge elegant brown two-story brick ...\n",
       " 303    exteriormid-sized arts and crafts beige one-st...\n",
       " 314    modern villalarge modern multicolored two-stor...\n",
       " 349    mountain craftsman style with exposed wood tru...\n",
       " 354    stone, brick and clapboard mix to add interest...\n",
       " Name: descr, dtype: object)"
      ]
     },
     "metadata": {},
     "execution_count": 24
    }
   ]
  },
  {
   "cell_type": "markdown",
   "source": [
    "## Анализ частоты слов\n",
    "Сколько раз встречаются в текстах описаний определенные слова"
   ],
   "metadata": {
    "id": "YBagga2oo5Z6"
   }
  },
  {
   "cell_type": "code",
   "source": [
    "import nltk\n",
    "from nltk.corpus import stopwords\n",
    "from nltk.tokenize import word_tokenize\n",
    "import string\n",
    "\n",
    "# Загрузка стоп-слов и знаков препинания\n",
    "nltk.download('stopwords')\n",
    "nltk.download('punkt')\n",
    "stop_words = set(stopwords.words('english'))\n",
    "punctuation = set(string.punctuation)\n",
    "\n",
    "# Функция для обработки текста\n",
    "def process_text(text):\n",
    "    # Токенизация текста на слова\n",
    "    tokens = word_tokenize(text)\n",
    "\n",
    "    # Удаление стоп-слов и знаков препинания\n",
    "    tokens = [word.lower() for word in tokens if word.lower() not in stop_words and word.lower() not in punctuation]\n",
    "\n",
    "    return tokens\n",
    "\n",
    "# Объединяем все тексты в одну строку\n",
    "all_text = ' '.join(df_wrong['descr'].tolist())\n",
    "\n",
    "# Обрабатываем текст\n",
    "processed_text = process_text(all_text)\n",
    "\n",
    "# Подсчитываем частоту слов\n",
    "word_counts = nltk.FreqDist(processed_text)\n",
    "\n",
    "# Фильтруем слова, которые повторялись менее 40 раз\n",
    "filtered_words = {word: count for word, count in word_counts.items() if count >= 40}\n",
    "\n",
    "# Сортируем слова по возрастанию частоты\n",
    "sorted_words = sorted(filtered_words.items(), key=lambda x: x[1])\n",
    "\n",
    "# Выводим отсортированные слова\n",
    "for word, count in sorted_words:\n",
    "    print(f\"{word}: {count}\")\n"
   ],
   "metadata": {
    "colab": {
     "base_uri": "https://localhost:8080/"
    },
    "id": "UeMX1wXAPqLI",
    "executionInfo": {
     "status": "ok",
     "timestamp": 1687215454011,
     "user_tz": -180,
     "elapsed": 1212,
     "user": {
      "displayName": "Данила Власов",
      "userId": "10847520665763514044"
     }
    },
    "outputId": "2eac21b7-ad0b-4424-99b6-bd490c0c30f0"
   },
   "execution_count": null,
   "outputs": [
    {
     "output_type": "stream",
     "name": "stderr",
     "text": [
      "[nltk_data] Downloading package stopwords to /root/nltk_data...\n",
      "[nltk_data]   Package stopwords is already up-to-date!\n",
      "[nltk_data] Downloading package punkt to /root/nltk_data...\n",
      "[nltk_data]   Package punkt is already up-to-date!\n"
     ]
    },
    {
     "output_type": "stream",
     "name": "stdout",
     "text": [
      "space: 40\n",
      "light: 40\n",
      "material: 41\n",
      "living: 41\n",
      "design: 41\n",
      "covered: 43\n",
      "two: 45\n",
      "minimalist: 47\n",
      "entry: 47\n",
      "floor: 49\n",
      "style: 51\n",
      "windows: 51\n",
      "view: 52\n",
      "room: 52\n",
      "elegant: 57\n",
      "garage: 59\n",
      "front: 61\n",
      "trendy: 66\n",
      "lake: 73\n",
      "beige: 74\n",
      "traditional: 74\n",
      "shed: 75\n",
      "new: 77\n",
      "contemporary: 80\n",
      "clapboard: 81\n",
      "three-story: 82\n",
      "tile: 85\n",
      "hip: 99\n",
      "brick: 121\n",
      "batten: 127\n",
      "stucco: 130\n",
      "board: 132\n",
      "modern: 136\n",
      "metal: 156\n",
      "wood: 176\n",
      "mixed: 178\n",
      "one-story: 180\n",
      "brown: 182\n",
      "siding: 189\n",
      "black: 225\n",
      "white: 248\n",
      "two-story: 249\n",
      "idea: 257\n",
      "shingle: 272\n",
      "photo: 275\n",
      "house: 276\n",
      "gray: 310\n",
      "home: 507\n",
      "exterior: 588\n",
      "roof: 1234\n"
     ]
    }
   ]
  },
  {
   "cell_type": "markdown",
   "source": [
    "## Подсчет первых слов\n",
    "Сколько раз и какие слова встречаются первыми в текстах"
   ],
   "metadata": {
    "id": "o0OuxmBto_XI"
   }
  },
  {
   "cell_type": "code",
   "source": [
    "# Функция для обработки текста и подсчета первых слов\n",
    "def process_text_and_count_first_words(text):\n",
    "    # Токенизация текста на слова\n",
    "    tokens = word_tokenize(text)\n",
    "\n",
    "    # Удаление стоп-слов и знаков препинания\n",
    "    tokens = [word.lower() for word in tokens if word.lower() not in stop_words and word.lower() not in punctuation]\n",
    "\n",
    "    if len(tokens) > 0:\n",
    "        first_word = tokens[0]\n",
    "        return first_word\n",
    "\n",
    "    return None\n",
    "\n",
    "# Применяем функцию к колонке \"descr\" и подсчитываем первые слова\n",
    "first_words = df_wrong['descr'].apply(process_text_and_count_first_words)\n",
    "first_words_counts = first_words.value_counts()\n",
    "\n",
    "# Выводим количество первых слов\n",
    "print(first_words_counts.head(30))"
   ],
   "metadata": {
    "colab": {
     "base_uri": "https://localhost:8080/"
    },
    "id": "WLhO6AtYSQus",
    "executionInfo": {
     "status": "ok",
     "timestamp": 1687215454011,
     "user_tz": -180,
     "elapsed": 9,
     "user": {
      "displayName": "Данила Власов",
      "userId": "10847520665763514044"
     }
    },
    "outputId": "e8984227-7e32-4edc-d628-11bcee3dff43"
   },
   "execution_count": null,
   "outputs": [
    {
     "output_type": "stream",
     "name": "stdout",
     "text": [
      "exterior         29\n",
      "new              20\n",
      "front            17\n",
      "custom           16\n",
      "photo            13\n",
      "rear             12\n",
      "modern           11\n",
      "south            11\n",
      "conversion        9\n",
      "finecraft         9\n",
      "view              8\n",
      "faade             8\n",
      "post              8\n",
      "farmhouse         7\n",
      "ohio              7\n",
      "outdoor           7\n",
      "kevin             7\n",
      "side              6\n",
      "roof              6\n",
      "hardie            6\n",
      "shingle           6\n",
      "use               6\n",
      "vista             5\n",
      "fotograf          5\n",
      "remo              5\n",
      "home              5\n",
      "single            4\n",
      "history           4\n",
      "extraordinary     4\n",
      "major             4\n",
      "Name: descr, dtype: int64\n"
     ]
    }
   ]
  },
  {
   "cell_type": "code",
   "source": [
    "len(df_right), len(df_wrong)"
   ],
   "metadata": {
    "colab": {
     "base_uri": "https://localhost:8080/"
    },
    "id": "XGHNQljpW2xD",
    "executionInfo": {
     "status": "ok",
     "timestamp": 1687215454011,
     "user_tz": -180,
     "elapsed": 7,
     "user": {
      "displayName": "Данила Власов",
      "userId": "10847520665763514044"
     }
    },
    "outputId": "e05173ac-2145-4fb4-a4ef-b9615e6598c2"
   },
   "execution_count": null,
   "outputs": [
    {
     "output_type": "execute_result",
     "data": {
      "text/plain": [
       "(2722, 553)"
      ]
     },
     "metadata": {},
     "execution_count": 27
    }
   ]
  },
  {
   "cell_type": "markdown",
   "source": [
    "## Удаление повторений\n",
    "Поиск повторений начал у описаний"
   ],
   "metadata": {
    "id": "9uTE2Ff7pKHl"
   }
  },
  {
   "cell_type": "code",
   "source": [
    "# Сформируем список первых 5 слов для каждой строки\n",
    "df_wrong['first_words'] = df_wrong['descr'].apply(lambda x: ' '.join(process_text_and_count_first_words(x)[:5]))\n",
    "\n",
    "# Удалим повторяющиеся строки, оставив только первое вхождение каждой группы повторяющихся строк\n",
    "df_cleaned = df_wrong.drop_duplicates(subset='first_words', keep='first')\n",
    "\n",
    "# Удаление временного столбца 'first_words'\n",
    "df_cleaned = df_cleaned.drop('first_words', axis=1)\n"
   ],
   "metadata": {
    "id": "iAIv9SpzYxTG"
   },
   "execution_count": null,
   "outputs": []
  },
  {
   "cell_type": "markdown",
   "source": [
    "Добавление \"а\" по канону промптов"
   ],
   "metadata": {
    "id": "01kMjAmmbEqy"
   }
  },
  {
   "cell_type": "code",
   "source": [
    "# Добавим префикс 'a' к столбцу 'descr' в DataFrame df_right\n",
    "df_right['descr'] = df_right['descr'].apply(lambda x: 'a ' + x)"
   ],
   "metadata": {
    "id": "ts8LHkIoavjA"
   },
   "execution_count": null,
   "outputs": []
  },
  {
   "cell_type": "code",
   "source": [
    "# Выводим первые 15 значений столбца 'descr' из DataFrame df_right\n",
    "df_right['descr'].head(15)"
   ],
   "metadata": {
    "colab": {
     "base_uri": "https://localhost:8080/"
    },
    "id": "1NUKbs9XbnBe",
    "executionInfo": {
     "status": "ok",
     "timestamp": 1687215454012,
     "user_tz": -180,
     "elapsed": 5,
     "user": {
      "displayName": "Данила Власов",
      "userId": "10847520665763514044"
     }
    },
    "outputId": "9026c836-a8e9-4864-f788-4c53bee00412"
   },
   "execution_count": null,
   "outputs": [
    {
     "output_type": "execute_result",
     "data": {
      "text/plain": [
       "2     a large minimalist multicolored three-story st...\n",
       "3     a large contemporary multicolored three-story ...\n",
       "4     a large elegant red three-story brick exterior...\n",
       "5     a large mediterranean white two-story stucco h...\n",
       "6     a mid-sized arts and crafts gray two-story woo...\n",
       "7     a mid-sized transitional gray three-story wood...\n",
       "8     a mid-sized coastal gray two-story mixed sidin...\n",
       "9     a large danish white two-story mixed siding ho...\n",
       "13    a large modern brown two-story wood exterior h...\n",
       "14    a large scandinavian white two-story mixed sid...\n",
       "15    a mid-sized contemporary multicolored three-st...\n",
       "16    a mid-sized arts and crafts gray two-story woo...\n",
       "17    a mid-sized minimalist beige two-story brick a...\n",
       "18    a mid-sized arts and crafts beige one-story br...\n",
       "19    a mid-sized elegant gray two-story wood exteri...\n",
       "Name: descr, dtype: object"
      ]
     },
     "metadata": {},
     "execution_count": 30
    }
   ]
  },
  {
   "cell_type": "markdown",
   "source": [
    "##  Замена синонимов в тексте\n",
    "Замена всех синонимов на самые часто встречающиеся из них"
   ],
   "metadata": {
    "id": "_17bLMv8p1-r"
   }
  },
  {
   "cell_type": "code",
   "source": [
    "from nltk.corpus import wordnet\n",
    "\n",
    "# Загрузка ресурсов WordNet\n",
    "nltk.download('wordnet')\n",
    "nltk.download('punkt')\n",
    "\n",
    "# Функция для поиска самого популярного синонима\n",
    "def get_most_common_synonym(word):\n",
    "    synonyms = []\n",
    "    for synset in wordnet.synsets(word):\n",
    "        for lemma in synset.lemmas():\n",
    "            synonyms.append(lemma.name())\n",
    "    if not synonyms:\n",
    "        return word\n",
    "    synonym_counts = nltk.FreqDist(synonyms)\n",
    "    return synonym_counts.most_common(1)[0][0]\n",
    "\n",
    "# Функция для замены синонимов в тексте\n",
    "def replace_synonyms(text):\n",
    "    tokens = word_tokenize(text)\n",
    "    replaced_tokens = [get_most_common_synonym(token) for token in tokens]\n",
    "    return ' '.join(replaced_tokens)\n",
    "\n",
    "df_right_copy = df_right.copy()\n",
    "# Замена синонимов в колонке 'descr'\n",
    "df_right_copy['descr'] = df_right_copy['descr'].apply(replace_synonyms)\n"
   ],
   "metadata": {
    "colab": {
     "base_uri": "https://localhost:8080/"
    },
    "id": "nq5WzIRRdGWx",
    "executionInfo": {
     "status": "ok",
     "timestamp": 1687215458128,
     "user_tz": -180,
     "elapsed": 4119,
     "user": {
      "displayName": "Данила Власов",
      "userId": "10847520665763514044"
     }
    },
    "outputId": "ce81a90a-3be7-41a6-d4f6-81d5ad175a23"
   },
   "execution_count": null,
   "outputs": [
    {
     "output_type": "stream",
     "name": "stderr",
     "text": [
      "[nltk_data] Downloading package wordnet to /root/nltk_data...\n",
      "[nltk_data]   Package wordnet is already up-to-date!\n",
      "[nltk_data] Downloading package punkt to /root/nltk_data...\n",
      "[nltk_data]   Package punkt is already up-to-date!\n"
     ]
    }
   ]
  },
  {
   "cell_type": "markdown",
   "source": [
    "## Удаление плохих изображений\n",
    "Плохое изображения - на них изображены либо вовсе не дома, либо они, но не их внешний вид"
   ],
   "metadata": {
    "id": "QrHJfHTKqRL5"
   }
  },
  {
   "cell_type": "code",
   "source": [
    "len(df_right)"
   ],
   "metadata": {
    "colab": {
     "base_uri": "https://localhost:8080/"
    },
    "id": "mrE_bx_ymUIm",
    "executionInfo": {
     "status": "ok",
     "timestamp": 1687215458129,
     "user_tz": -180,
     "elapsed": 14,
     "user": {
      "displayName": "Данила Власов",
      "userId": "10847520665763514044"
     }
    },
    "outputId": "3872d51a-ef58-48b1-950a-6190fe74e515"
   },
   "execution_count": null,
   "outputs": [
    {
     "output_type": "execute_result",
     "data": {
      "text/plain": [
       "2722"
      ]
     },
     "metadata": {},
     "execution_count": 33
    }
   ]
  },
  {
   "cell_type": "code",
   "source": [
    "# Список id для удаления\n",
    "ids_to_remove = [\n",
    "    17, 23, 24, 36, 40, 42, 46, 48, 51, 57, 59, 63, 70, 71, 81, 85, 93, 95, 98, 99, 107, 109, 113, 114,\n",
    "    121, 122, 126, 129, 141, 145, 149, 151, 153, 162, 166, 170, 175, 176, 177, 179, 186, 191, 196, 199,\n",
    "    200, 204, 206, 209, 226, 227, 229, 234, 236, 237, 241, 242, 247, 257, 267, 294, 299, 301, 302, 306,\n",
    "    312, 313, 325, 340, 341, 343, 348, 351, 359, 360, 362, 363, 373, 374, 377, 380, 382, 384, 386, 387,\n",
    "    392, 393, 397, 400, 407, 411, 412, 416, 421, 422, 425, 434, 448, 455, 461, 465, 474, 477, 479, 497,\n",
    "    513, 514, 518, 520, 523, 527, 530, 535, 538, 539, 546, 559, 566, 570, 573, 578, 594, 598, 599, 600,\n",
    "    602, 610, 611, 614, 620, 623, 625, 627, 628, 629, 634, 637, 654, 656, 660, 664, 682, 687, 689, 692,\n",
    "    694, 696, 698, 701, 702, 703, 704, 706, 714, 721, 725, 726, 731, 734, 735, 742, 743, 750, 751, 752,\n",
    "    758, 761, 766, 769, 773, 781, 786, 796, 797, 800, 801, 809, 812, 821, 826, 831, 837, 841, 842, 847,\n",
    "    852, 855, 860, 861, 866, 867, 874, 879, 884, 886, 887, 888, 889, 895, 896, 898, 903, 905, 924, 927,\n",
    "    945, 946, 947, 950, 959, 961, 970, 972, 978, 988, 990, 994, 996, 997, 1006, 1008, 1009, 1015, 1016,\n",
    "    1019, 1020, 1023, 1041, 1042, 1045, 1065, 1066, 1069, 1070, 1072, 1083, 1085, 1092, 1096, 1099, 1109,\n",
    "    1121, 1130, 1132, 1134, 1143, 1144, 1148, 1150, 1152, 1154, 1155, 1161, 1169, 1177, 1179, 1180, 1181,\n",
    "    1187, 1190, 1206, 1209, 1210, 1214, 1217, 1220, 1226, 1233, 1236, 1247, 1249, 1252, 1253, 1258, 1259,\n",
    "    1261, 1262, 1267, 1268, 1270, 1275, 1278, 1283, 1285, 1290, 1294, 1298, 1312, 1313, 1316, 1322, 1327,\n",
    "    1328, 1330, 1333, 1334, 1336, 1337, 1340, 1343, 1345, 1349, 1361, 1365, 1367, 1370, 1371, 1376, 1396,\n",
    "    1397, 1403, 1406, 1407, 1409, 1410, 1412, 1415, 1419, 1421, 1426, 1437, 1446, 1448, 1450, 1457, 1461,\n",
    "    1468, 1470, 1476, 1477, 1485, 1494, 1500, 1506, 1508, 1510, 1513, 1514, 1518, 1523, 1526, 1529, 1533,\n",
    "    1544, 1546, 1548, 1551, 1562, 1569, 2036, 2038, 2046, 2049, 2058, 2059, 2067, 2072, 2075, 2076, 2082,\n",
    "    2084, 2096, 2106, 2107, 2109, 2110, 2111, 2112, 2115, 2118, 2119, 2125, 2129, 2132, 2134, 2135, 2137,\n",
    "    2138, 2141, 2142, 2143, 2145, 2150, 2151, 2153, 2157, 2158, 2160, 2161, 2162, 2168, 2173, 2175, 2177,\n",
    "    2184, 2192, 2194, 2200, 2203, 2204, 2208, 2209, 2210, 2215, 2220, 2231, 2233, 2234, 2235, 2236, 2237,\n",
    "    2239, 2240, 2243, 2244, 2249, 2256, 2263, 2266, 2267, 2278, 2281, 2282, 2286, 2293, 2297, 2298, 2305,\n",
    "    2307, 2308, 2312, 2315, 2316, 2319, 2323, 2325, 2329, 2330, 2332, 2334, 2335, 2338, 2341, 2344, 2354,\n",
    "    2355, 2366, 2369, 2370, 2373, 2375, 2377, 2389, 2392, 2398, 2399, 2401, 2402, 2405, 2410, 2419, 2420,\n",
    "    2422, 2428, 2436, 2441, 2446, 2454, 2456, 2457, 2458, 2469, 2472, 2473, 2477, 2478, 2482, 2483, 2491,\n",
    "    2492, 2497, 2506, 2512, 2513, 2514, 2518, 2519, 2525, 2529, 2530, 2533, 2539, 2540, 2541, 2543, 2544,\n",
    "    2549, 2552, 2557, 2560, 2563, 2566, 2567, 2568, 2580, 2584, 2588, 2590, 2591, 2594, 2595, 2596, 2604,\n",
    "    2607, 2613, 2614, 2618, 2620, 2621, 2629, 2630, 2635, 2641, 2644, 2651, 2663, 2672, 2675, 2676, 2679,\n",
    "    2680, 2683, 2686, 2688, 2689, 2691, 2696, 2699, 2704, 2714, 2718, 2719, 2721, 2723, 2724, 2729, 2731,\n",
    "    2734, 2741, 2745, 2747, 2748, 2753, 2754, 2759, 2762, 2763, 2772, 2773, 2774, 2775, 2778, 2779, 2781,\n",
    "    2784, 2786, 2787, 2790, 2792, 2794, 2795, 2797, 2798, 2799, 2800, 2803, 2804, 2805, 2808, 2810, 2812,\n",
    "    2813, 2814, 2816, 2820, 2821, 2823, 2826, 2829, 2831, 2834, 2835, 2838, 2842, 2846, 2853, 2854, 2857,\n",
    "    2860, 2861, 2862, 2863, 2868, 2869, 2874, 2876, 2883, 2892, 2901, 2903, 2905, 2906, 2907, 2910, 2911,\n",
    "    2912, 2913, 2916, 2921, 2922, 2924, 2925, 2926, 2936, 2938, 2939, 2941, 2943, 2948, 2954, 2956, 2958,\n",
    "    2960, 2967, 2970, 2971, 2972, 2979, 2981, 2984, 2987, 2990, 2992, 2995, 2999, 3001, 3002, 3004, 3006,\n",
    "    3010, 3011, 3013, 3017, 3019, 3020, 3021, 3031, 3033, 3041, 3042, 3043, 3048, 3050, 3059, 3062, 3063,\n",
    "    3064, 3067, 3069, 3070, 3071, 3072, 3077, 3082, 3083, 3085, 3088, 3092, 3093, 3097, 3099, 3104, 3106,\n",
    "    3111, 3116, 3117, 3121, 3125, 3127, 3132, 3135, 3138, 3143, 3149, 3150, 3154, 3156, 3157, 3161, 3171,\n",
    "    3177, 3181, 3183, 3185, 3187, 3188\n",
    "    ]\n",
    "\n",
    "# Удаление строк с указанными id\n",
    "df_right = df_right[~df_right.index.isin(ids_to_remove)]\n",
    "\n",
    "len(df_right)"
   ],
   "metadata": {
    "colab": {
     "base_uri": "https://localhost:8080/"
    },
    "id": "pnl2KdLCpWOK",
    "executionInfo": {
     "status": "ok",
     "timestamp": 1687215458130,
     "user_tz": -180,
     "elapsed": 12,
     "user": {
      "displayName": "Данила Власов",
      "userId": "10847520665763514044"
     }
    },
    "outputId": "fd310a0d-ce0e-427e-e2ce-e5a4fbc3a272"
   },
   "execution_count": null,
   "outputs": [
    {
     "output_type": "execute_result",
     "data": {
      "text/plain": [
       "2017"
      ]
     },
     "metadata": {},
     "execution_count": 34
    }
   ]
  },
  {
   "cell_type": "markdown",
   "source": [
    "## Отбрасывание слишком длинных описаний\n",
    "Нахождение медианы количества слов для описаний и фильтрация датафрейма по пороговому значению"
   ],
   "metadata": {
    "id": "9r0kgxJAqnfr"
   }
  },
  {
   "cell_type": "code",
   "source": [
    "# Расчет медианы количества слов в ячейках столбца 'descr'\n",
    "median_word_count = df_right['descr'].apply(lambda x: len(x.split())).median()\n",
    "\n",
    "# Установка верхнего порога для количества слов\n",
    "upper_threshold = median_word_count * 1.5\n",
    "\n",
    "# Фильтрация строк, где количество слов в столбце 'descr' не превышает верхний порог\n",
    "df_filtered = df_right[df_right['descr'].apply(lambda x: len(x.split())) <= upper_threshold]\n",
    "\n",
    "# Вывод медианы и отфильтрованного датафрейма\n",
    "print(\"Медиана количества слов:\", median_word_count)\n",
    "print(\"Отфильтрованный датафрейм:\")\n",
    "len(df_filtered)"
   ],
   "metadata": {
    "colab": {
     "base_uri": "https://localhost:8080/"
    },
    "id": "aPiykUtT4Xhv",
    "executionInfo": {
     "status": "ok",
     "timestamp": 1687216056182,
     "user_tz": -180,
     "elapsed": 446,
     "user": {
      "displayName": "Данила Власов",
      "userId": "10847520665763514044"
     }
    },
    "outputId": "a6ffd321-f981-4608-a78e-454effa77e23"
   },
   "execution_count": null,
   "outputs": [
    {
     "output_type": "stream",
     "name": "stdout",
     "text": [
      "Медиана количества слов: 22.0\n",
      "Отфильтрованный датафрейм:\n"
     ]
    },
    {
     "output_type": "execute_result",
     "data": {
      "text/plain": [
       "1940"
      ]
     },
     "metadata": {},
     "execution_count": 42
    }
   ]
  },
  {
   "cell_type": "markdown",
   "source": [
    "## Слишком длинные описания"
   ],
   "metadata": {
    "id": "kGFIuq8oqtlT"
   }
  },
  {
   "cell_type": "code",
   "source": [
    "# Фильтрация строк, где количество слов в столбце 'descr' превышает верхний порог\n",
    "df_exceed_threshold = df_right[df_right['descr'].apply(lambda x: len(x.split())) > upper_threshold]\n",
    "\n",
    "# Отдельный датафрейм с описаниями, которые превышают верхний порог\n",
    "df_exceed_threshold_descr = df_exceed_threshold['descr']\n",
    "\n",
    "# Вывод описаний, которые превышают верхний порог\n",
    "for description in df_exceed_threshold_descr:\n",
    "    print(description)"
   ],
   "metadata": {
    "id": "HqNQgRPu6H49"
   },
   "execution_count": null,
   "outputs": []
  },
  {
   "cell_type": "markdown",
   "source": [
    "## Вывод датафрейма"
   ],
   "metadata": {
    "id": "62wMlRHpsr26"
   }
  },
  {
   "cell_type": "code",
   "source": [
    "# Итерация по каждой строке DataFrame\n",
    "for index, row in df_filtered.tail(15).iterrows():\n",
    "    # Получение значений из столбцов 'img' и 'descr'\n",
    "    image_link = row['img']\n",
    "    description = row['descr']\n",
    "\n",
    "    # Вывод индекса и описания\n",
    "    print(\"Index:\", index)\n",
    "    print(\"Description:\", description)\n",
    "\n",
    "    # Отображение изображения\n",
    "    display.display(display.Image(url=image_link))\n",
    "    print(\"-------------------------------------\")"
   ],
   "metadata": {
    "colab": {
     "base_uri": "https://localhost:8080/",
     "height": 1000
    },
    "id": "zoTMtE1z6s34",
    "executionInfo": {
     "status": "ok",
     "timestamp": 1687216161760,
     "user_tz": -180,
     "elapsed": 440,
     "user": {
      "displayName": "Данила Власов",
      "userId": "10847520665763514044"
     }
    },
    "outputId": "102f08ac-a50b-413c-ae7e-3438aa94b655"
   },
   "execution_count": null,
   "outputs": [
    {
     "output_type": "stream",
     "name": "stdout",
     "text": [
      "Index: 3162\n",
      "Description: a large arts and crafts white two-story stucco exterior home photo in jacksonville with a shingle roof and a black roof\n"
     ]
    },
    {
     "output_type": "display_data",
     "data": {
      "text/html": [
       "<img src=\"https://st.hzcdn.com/fimgs/d1319c91048343cc_9535-w360-h360-b0-p0--.jpg\"/>"
      ],
      "text/plain": [
       "<IPython.core.display.Image object>"
      ]
     },
     "metadata": {}
    },
    {
     "output_type": "stream",
     "name": "stdout",
     "text": [
      "-------------------------------------\n",
      "Index: 3163\n",
      "Description: a large arts and crafts brown one-story mixed siding house exterior design in austin with a hip roof, a shingle roof and a black roof\n"
     ]
    },
    {
     "output_type": "display_data",
     "data": {
      "text/html": [
       "<img src=\"https://st.hzcdn.com/fimgs/f541e27802aa3221_2808-w360-h360-b0-p0--.jpg\"/>"
      ],
      "text/plain": [
       "<IPython.core.display.Image object>"
      ]
     },
     "metadata": {}
    },
    {
     "output_type": "stream",
     "name": "stdout",
     "text": [
      "-------------------------------------\n",
      "Index: 3164\n",
      "Description: a large arts and crafts white one-story mixed siding house exterior photo in austin with a hip roof, a shingle roof and a black roof\n"
     ]
    },
    {
     "output_type": "display_data",
     "data": {
      "text/html": [
       "<img src=\"https://st.hzcdn.com/fimgs/32a115a4036aafac_6176-w360-h360-b0-p0--.jpg\"/>"
      ],
      "text/plain": [
       "<IPython.core.display.Image object>"
      ]
     },
     "metadata": {}
    },
    {
     "output_type": "stream",
     "name": "stdout",
     "text": [
      "-------------------------------------\n",
      "Index: 3165\n",
      "Description: a mid-sized arts and crafts gray one-story mixed siding house exterior design in austin with a hip roof, a shingle roof and a gray roof\n"
     ]
    },
    {
     "output_type": "display_data",
     "data": {
      "text/html": [
       "<img src=\"https://st.hzcdn.com/fimgs/35511dac03dd7205_5902-w360-h360-b0-p0--.jpg\"/>"
      ],
      "text/plain": [
       "<IPython.core.display.Image object>"
      ]
     },
     "metadata": {}
    },
    {
     "output_type": "stream",
     "name": "stdout",
     "text": [
      "-------------------------------------\n",
      "Index: 3166\n",
      "Description: a mid-sized mountain style brown two-story mixed siding house exterior design in edmonton with a shed roof, a metal roof and a black roof\n"
     ]
    },
    {
     "output_type": "display_data",
     "data": {
      "text/html": [
       "<img src=\"https://st.hzcdn.com/fimgs/3a810de30fe3ab0c_0800-w360-h360-b0-p0--.jpg\"/>"
      ],
      "text/plain": [
       "<IPython.core.display.Image object>"
      ]
     },
     "metadata": {}
    },
    {
     "output_type": "stream",
     "name": "stdout",
     "text": [
      "-------------------------------------\n",
      "Index: 3169\n",
      "Description: a mid-sized transitional gray one-story mixed siding and clapboard house exterior design in chicago with a hip roof, a shingle roof and a gray roof\n"
     ]
    },
    {
     "output_type": "display_data",
     "data": {
      "text/html": [
       "<img src=\"https://st.hzcdn.com/fimgs/5fc122a50fd6b0be_3532-w360-h360-b0-p0--.jpg\"/>"
      ],
      "text/plain": [
       "<IPython.core.display.Image object>"
      ]
     },
     "metadata": {}
    },
    {
     "output_type": "stream",
     "name": "stdout",
     "text": [
      "-------------------------------------\n",
      "Index: 3172\n",
      "Description: a small mid-century modern beige one-story brick exterior home design in canberra - queanbeyan with a metal roof and a brown roof\n"
     ]
    },
    {
     "output_type": "display_data",
     "data": {
      "text/html": [
       "<img src=\"https://st.hzcdn.com/fimgs/a3a11a800fe14489_2600-w360-h360-b0-p0--.jpg\"/>"
      ],
      "text/plain": [
       "<IPython.core.display.Image object>"
      ]
     },
     "metadata": {}
    },
    {
     "output_type": "stream",
     "name": "stdout",
     "text": [
      "-------------------------------------\n",
      "Index: 3173\n",
      "Description: a large transitional white two-story brick house exterior idea in austin with a shed roof, a metal roof and a black roof\n"
     ]
    },
    {
     "output_type": "display_data",
     "data": {
      "text/html": [
       "<img src=\"https://st.hzcdn.com/fimgs/1021dba402a7ab1d_4279-w360-h360-b0-p0--.jpg\"/>"
      ],
      "text/plain": [
       "<IPython.core.display.Image object>"
      ]
     },
     "metadata": {}
    },
    {
     "output_type": "stream",
     "name": "stdout",
     "text": [
      "-------------------------------------\n",
      "Index: 3175\n",
      "Description: a mid-sized coastal beige one-story mixed siding and board and batten exterior home remodel in san diego with a shingle roof and a gray roof\n"
     ]
    },
    {
     "output_type": "display_data",
     "data": {
      "text/html": [
       "<img src=\"https://st.hzcdn.com/fimgs/f01130580233745e_1177-w360-h360-b0-p0--.jpg\"/>"
      ],
      "text/plain": [
       "<IPython.core.display.Image object>"
      ]
     },
     "metadata": {}
    },
    {
     "output_type": "stream",
     "name": "stdout",
     "text": [
      "-------------------------------------\n",
      "Index: 3178\n",
      "Description: a large arts and crafts brown one-story mixed siding house exterior design in austin with a hip roof, a shingle roof and a black roof\n"
     ]
    },
    {
     "output_type": "display_data",
     "data": {
      "text/html": [
       "<img src=\"https://st.hzcdn.com/fimgs/8d01eb0200493697_0542-w360-h360-b0-p0--.jpg\"/>"
      ],
      "text/plain": [
       "<IPython.core.display.Image object>"
      ]
     },
     "metadata": {}
    },
    {
     "output_type": "stream",
     "name": "stdout",
     "text": [
      "-------------------------------------\n",
      "Index: 3180\n",
      "Description: a mid-sized contemporary brown two-story brick exterior home remodel in indianapolis with a shingle roof and a black roof\n"
     ]
    },
    {
     "output_type": "display_data",
     "data": {
      "text/html": [
       "<img src=\"https://st.hzcdn.com/fimgs/8d71c01600ae7450_4387-w360-h360-b0-p0--.jpg\"/>"
      ],
      "text/plain": [
       "<IPython.core.display.Image object>"
      ]
     },
     "metadata": {}
    },
    {
     "output_type": "stream",
     "name": "stdout",
     "text": [
      "-------------------------------------\n",
      "Index: 3182\n",
      "Description: a large craftsman gray one-story mixed siding house exterior remodel in austin with a hip roof, a shingle roof and a black roof\n"
     ]
    },
    {
     "output_type": "display_data",
     "data": {
      "text/html": [
       "<img src=\"https://st.hzcdn.com/fimgs/b8619cff0049415e_0530-w360-h360-b0-p0--.jpg\"/>"
      ],
      "text/plain": [
       "<IPython.core.display.Image object>"
      ]
     },
     "metadata": {}
    },
    {
     "output_type": "stream",
     "name": "stdout",
     "text": [
      "-------------------------------------\n",
      "Index: 3184\n",
      "Description: a mid-sized contemporary black three-story mixed siding exterior home idea in seattle with a shingle roof and a gray roof\n"
     ]
    },
    {
     "output_type": "display_data",
     "data": {
      "text/html": [
       "<img src=\"https://st.hzcdn.com/fimgs/d171c23d0193cc23_7127-w360-h360-b0-p0--.jpg\"/>"
      ],
      "text/plain": [
       "<IPython.core.display.Image object>"
      ]
     },
     "metadata": {}
    },
    {
     "output_type": "stream",
     "name": "stdout",
     "text": [
      "-------------------------------------\n",
      "Index: 3186\n",
      "Description: a large mountain style brown two-story wood and shingle house exterior photo in other with a hip roof, a shingle roof and a brown roof\n"
     ]
    },
    {
     "output_type": "display_data",
     "data": {
      "text/html": [
       "<img src=\"https://st.hzcdn.com/fimgs/15e14ed801899475_9595-w360-h360-b0-p0--.jpg\"/>"
      ],
      "text/plain": [
       "<IPython.core.display.Image object>"
      ]
     },
     "metadata": {}
    },
    {
     "output_type": "stream",
     "name": "stdout",
     "text": [
      "-------------------------------------\n",
      "Index: 3189\n",
      "Description: a large trendy multicolored one-story mixed siding exterior home photo in portland with a shingle roof and a gray roof\n"
     ]
    },
    {
     "output_type": "display_data",
     "data": {
      "text/html": [
       "<img src=\"https://st.hzcdn.com/fimgs/6ce1b6fc0126ceb9_0806-w360-h360-b0-p0--.jpg\"/>"
      ],
      "text/plain": [
       "<IPython.core.display.Image object>"
      ]
     },
     "metadata": {}
    },
    {
     "output_type": "stream",
     "name": "stdout",
     "text": [
      "-------------------------------------\n"
     ]
    }
   ]
  },
  {
   "cell_type": "markdown",
   "source": [
    "## Сброс индексации\n",
    "Сброс текущей индексации и создание новой индексации по порядку"
   ],
   "metadata": {
    "id": "EvNFdz4vs1ie"
   }
  },
  {
   "cell_type": "code",
   "source": [
    "# Сброс текущей индексации и создание новой индексации по порядку\n",
    "df_filtered.reset_index(drop=True, inplace=True)\n",
    "df_filtered.head(10), len(df_filtered)"
   ],
   "metadata": {
    "colab": {
     "base_uri": "https://localhost:8080/"
    },
    "id": "bdRha59y6x_v",
    "executionInfo": {
     "status": "ok",
     "timestamp": 1687216238976,
     "user_tz": -180,
     "elapsed": 442,
     "user": {
      "displayName": "Данила Власов",
      "userId": "10847520665763514044"
     }
    },
    "outputId": "6bde5639-1e5d-42ec-f263-a82e43a3a597"
   },
   "execution_count": null,
   "outputs": [
    {
     "output_type": "execute_result",
     "data": {
      "text/plain": [
       "(                                                 img  \\\n",
       " 0  https://st.hzcdn.com/fimgs/pictures/house-exte...   \n",
       " 1  https://st.hzcdn.com/fimgs/pictures/exteriors/...   \n",
       " 2  https://st.hzcdn.com/fimgs/pictures/exteriors/...   \n",
       " 3  https://st.hzcdn.com/fimgs/pictures/exteriors/...   \n",
       " 4  https://st.hzcdn.com/fimgs/pictures/exteriors/...   \n",
       " 5  https://st.hzcdn.com/fimgs/pictures/exteriors/...   \n",
       " 6  https://st.hzcdn.com/fimgs/pictures/exteriors/...   \n",
       " 7  https://st.hzcdn.com/fimgs/pictures/家の外観/豊橋市-八...   \n",
       " 8  https://st.hzcdn.com/fimgs/pictures/exteriors/...   \n",
       " 9  https://st.hzcdn.com/fimgs/pictures/家の外観/豊川市-八...   \n",
       " \n",
       "                                                descr  \n",
       " 0  a large minimalist multicolored three-story st...  \n",
       " 1  a large contemporary multicolored three-story ...  \n",
       " 2  a large elegant red three-story brick exterior...  \n",
       " 3  a large mediterranean white two-story stucco h...  \n",
       " 4  a mid-sized arts and crafts gray two-story woo...  \n",
       " 5  a mid-sized transitional gray three-story wood...  \n",
       " 6  a mid-sized coastal gray two-story mixed sidin...  \n",
       " 7  a large danish white two-story mixed siding ho...  \n",
       " 8  a large modern brown two-story wood exterior h...  \n",
       " 9  a large scandinavian white two-story mixed sid...  ,\n",
       " 1940)"
      ]
     },
     "metadata": {},
     "execution_count": 48
    }
   ]
  },
  {
   "cell_type": "markdown",
   "source": [
    "# Сохранение\n",
    "Сохранение датафрейма в файл CSV на Google Drive"
   ],
   "metadata": {
    "id": "8jSkNPxTs9JT"
   }
  },
  {
   "cell_type": "code",
   "source": [
    "import os\n",
    "\n",
    "# Путь к файлу CSV на Google Drive\n",
    "file_path = '/content/drive/MyDrive/Colab Notebooks/Study/DrawHomeAI/Project/Dataset.csv'\n",
    "\n",
    "# Проверка наличия файла\n",
    "if not os.path.exists(file_path):\n",
    "    # Создание нового датафрейма\n",
    "    new_df = df_filtered.copy()\n",
    "\n",
    "    # Сохранение датафрейма в формате CSV\n",
    "    new_df.to_csv(file_path, index=False)\n",
    "    print(\"Файл CSV создан:\", file_path)\n",
    "else:\n",
    "    print(\"Файл CSV уже существует:\", file_path)"
   ],
   "metadata": {
    "colab": {
     "base_uri": "https://localhost:8080/"
    },
    "id": "MAGgQOWS7STo",
    "executionInfo": {
     "status": "ok",
     "timestamp": 1687216490350,
     "user_tz": -180,
     "elapsed": 437,
     "user": {
      "displayName": "Данила Власов",
      "userId": "10847520665763514044"
     }
    },
    "outputId": "d75eb084-75c6-45de-b667-32cc5110e3bf"
   },
   "execution_count": null,
   "outputs": [
    {
     "output_type": "stream",
     "name": "stdout",
     "text": [
      "Файл CSV создан: /content/drive/MyDrive/Colab Notebooks/Study/DrawHomeAI/Project/Dataset.csv\n"
     ]
    }
   ]
  }
 ]
}
