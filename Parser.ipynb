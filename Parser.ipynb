{
 "nbformat": 4,
 "nbformat_minor": 0,
 "metadata": {
  "colab": {
   "provenance": [
    {
     "file_id": "19mMe3hXQ8pFJwZ7L6wMkGmmwDpR2iDJO",
     "timestamp": 1686761827379
    }
   ]
  },
  "kernelspec": {
   "name": "python3",
   "display_name": "Python 3"
  },
  "language_info": {
   "name": "python"
  },
  "accelerator": "TPU"
 },
 "cells": [
  {
   "cell_type": "markdown",
   "source": [
    "## Установка необходимых библиотек и зависимостей"
   ],
   "metadata": {
    "id": "YmUgV2mXh3f3"
   }
  },
  {
   "cell_type": "code",
   "execution_count": null,
   "metadata": {
    "id": "mmUrOMuA6Rwt",
    "colab": {
     "base_uri": "https://localhost:8080/"
    },
    "executionInfo": {
     "status": "ok",
     "timestamp": 1687178818154,
     "user_tz": -180,
     "elapsed": 101333,
     "user": {
      "displayName": "Данила Власов",
      "userId": "10847520665763514044"
     }
    },
    "outputId": "87429bcc-376f-4ed0-8b19-2ea2e271da71"
   },
   "outputs": [
    {
     "output_type": "stream",
     "name": "stdout",
     "text": [
      "\u001B[2K     \u001B[90m━━━━━━━━━━━━━━━━━━━━━━━━━━━━━━━━━━━━━━━\u001B[0m \u001B[32m143.0/143.0 kB\u001B[0m \u001B[31m2.7 MB/s\u001B[0m eta \u001B[36m0:00:00\u001B[0m\n",
      "\u001B[2K     \u001B[90m━━━━━━━━━━━━━━━━━━━━━━━━━━━━━━━━━━━━━━━━\u001B[0m \u001B[32m6.7/6.7 MB\u001B[0m \u001B[31m43.5 MB/s\u001B[0m eta \u001B[36m0:00:00\u001B[0m\n",
      "\u001B[?25h  Preparing metadata (setup.py) ... \u001B[?25l\u001B[?25hdone\n",
      "\u001B[2K     \u001B[90m━━━━━━━━━━━━━━━━━━━━━━━━━━━━━━━━━━━━━━━━\u001B[0m \u001B[32m61.2/61.2 kB\u001B[0m \u001B[31m3.6 MB/s\u001B[0m eta \u001B[36m0:00:00\u001B[0m\n",
      "\u001B[?25h  Installing build dependencies ... \u001B[?25l\u001B[?25hdone\n",
      "  Getting requirements to build wheel ... \u001B[?25l\u001B[?25hdone\n",
      "  Preparing metadata (pyproject.toml) ... \u001B[?25l\u001B[?25hdone\n",
      "  Preparing metadata (setup.py) ... \u001B[?25l\u001B[?25hdone\n",
      "\u001B[2K     \u001B[90m━━━━━━━━━━━━━━━━━━━━━━━━━━━━━━━━━━━━━━\u001B[0m \u001B[32m236.8/236.8 kB\u001B[0m \u001B[31m20.7 MB/s\u001B[0m eta \u001B[36m0:00:00\u001B[0m\n",
      "\u001B[2K     \u001B[90m━━━━━━━━━━━━━━━━━━━━━━━━━━━━━━━━━━━━━━\u001B[0m \u001B[32m485.6/485.6 kB\u001B[0m \u001B[31m37.1 MB/s\u001B[0m eta \u001B[36m0:00:00\u001B[0m\n",
      "\u001B[2K     \u001B[90m━━━━━━━━━━━━━━━━━━━━━━━━━━━━━━━━━━━━━━━━\u001B[0m \u001B[32m3.4/3.4 MB\u001B[0m \u001B[31m34.6 MB/s\u001B[0m eta \u001B[36m0:00:00\u001B[0m\n",
      "\u001B[2K     \u001B[90m━━━━━━━━━━━━━━━━━━━━━━━━━━━━━━━━━━━━━━\u001B[0m \u001B[32m384.9/384.9 kB\u001B[0m \u001B[31m31.9 MB/s\u001B[0m eta \u001B[36m0:00:00\u001B[0m\n",
      "\u001B[2K     \u001B[90m━━━━━━━━━━━━━━━━━━━━━━━━━━━━━━━━━━━━━━━━\u001B[0m \u001B[32m55.1/55.1 kB\u001B[0m \u001B[31m4.7 MB/s\u001B[0m eta \u001B[36m0:00:00\u001B[0m\n",
      "\u001B[2K     \u001B[90m━━━━━━━━━━━━━━━━━━━━━━━━━━━━━━━━━━━━━━━━\u001B[0m \u001B[32m1.5/1.5 MB\u001B[0m \u001B[31m20.8 MB/s\u001B[0m eta \u001B[36m0:00:00\u001B[0m\n",
      "\u001B[2K     \u001B[90m━━━━━━━━━━━━━━━━━━━━━━━━━━━━━━━━━━━━━━\u001B[0m \u001B[32m133.4/133.4 kB\u001B[0m \u001B[31m11.2 MB/s\u001B[0m eta \u001B[36m0:00:00\u001B[0m\n",
      "\u001B[2K     \u001B[90m━━━━━━━━━━━━━━━━━━━━━━━━━━━━━━━━━━━━━━━━\u001B[0m \u001B[32m58.8/58.8 kB\u001B[0m \u001B[31m4.9 MB/s\u001B[0m eta \u001B[36m0:00:00\u001B[0m\n",
      "\u001B[2K     \u001B[90m━━━━━━━━━━━━━━━━━━━━━━━━━━━━━━━━━━━━━━━━\u001B[0m \u001B[32m42.6/42.6 kB\u001B[0m \u001B[31m3.3 MB/s\u001B[0m eta \u001B[36m0:00:00\u001B[0m\n",
      "\u001B[2K     \u001B[90m━━━━━━━━━━━━━━━━━━━━━━━━━━━━━━━━━━━━━━━━\u001B[0m \u001B[32m53.6/53.6 kB\u001B[0m \u001B[31m4.6 MB/s\u001B[0m eta \u001B[36m0:00:00\u001B[0m\n",
      "\u001B[2K     \u001B[90m━━━━━━━━━━━━━━━━━━━━━━━━━━━━━━━━━━━━━━━━\u001B[0m \u001B[32m65.0/65.0 kB\u001B[0m \u001B[31m2.7 MB/s\u001B[0m eta \u001B[36m0:00:00\u001B[0m\n",
      "\u001B[?25h  Installing build dependencies ... \u001B[?25l\u001B[?25hdone\n",
      "  Getting requirements to build wheel ... \u001B[?25l\u001B[?25hdone\n",
      "  Preparing metadata (pyproject.toml) ... \u001B[?25l\u001B[?25hdone\n",
      "\u001B[2K     \u001B[90m━━━━━━━━━━━━━━━━━━━━━━━━━━━━━━━━━━━━━━\u001B[0m \u001B[32m168.2/168.2 kB\u001B[0m \u001B[31m16.1 MB/s\u001B[0m eta \u001B[36m0:00:00\u001B[0m\n",
      "\u001B[?25h  Preparing metadata (setup.py) ... \u001B[?25l\u001B[?25hdone\n",
      "  Installing build dependencies ... \u001B[?25l\u001B[?25hdone\n",
      "  Getting requirements to build wheel ... \u001B[?25l\u001B[?25hdone\n",
      "  Preparing metadata (pyproject.toml) ... \u001B[?25l\u001B[?25hdone\n",
      "  Preparing metadata (setup.py) ... \u001B[?25l\u001B[?25hdone\n",
      "  Preparing metadata (setup.py) ... \u001B[?25l\u001B[?25hdone\n",
      "\u001B[2K     \u001B[90m━━━━━━━━━━━━━━━━━━━━━━━━━━━━━━━━━━━━━━\u001B[0m \u001B[32m132.8/132.8 kB\u001B[0m \u001B[31m11.2 MB/s\u001B[0m eta \u001B[36m0:00:00\u001B[0m\n",
      "\u001B[?25h  Preparing metadata (setup.py) ... \u001B[?25l\u001B[?25hdone\n",
      "\u001B[2K     \u001B[90m━━━━━━━━━━━━━━━━━━━━━━━━━━━━━━━━━━━━━━━\u001B[0m \u001B[32m110.5/110.5 kB\u001B[0m \u001B[31m8.9 MB/s\u001B[0m eta \u001B[36m0:00:00\u001B[0m\n",
      "\u001B[2K     \u001B[90m━━━━━━━━━━━━━━━━━━━━━━━━━━━━━━━━━━━━━━\u001B[0m \u001B[32m212.5/212.5 kB\u001B[0m \u001B[31m18.0 MB/s\u001B[0m eta \u001B[36m0:00:00\u001B[0m\n",
      "\u001B[2K     \u001B[90m━━━━━━━━━━━━━━━━━━━━━━━━━━━━━━━━━━━━━━━\u001B[0m \u001B[32m134.3/134.3 kB\u001B[0m \u001B[31m9.5 MB/s\u001B[0m eta \u001B[36m0:00:00\u001B[0m\n",
      "\u001B[2K     \u001B[90m━━━━━━━━━━━━━━━━━━━━━━━━━━━━━━━━━━━━━━━━\u001B[0m \u001B[32m1.0/1.0 MB\u001B[0m \u001B[31m62.2 MB/s\u001B[0m eta \u001B[36m0:00:00\u001B[0m\n",
      "\u001B[2K     \u001B[90m━━━━━━━━━━━━━━━━━━━━━━━━━━━━━━━━━━━━━━\u001B[0m \u001B[32m114.5/114.5 kB\u001B[0m \u001B[31m10.6 MB/s\u001B[0m eta \u001B[36m0:00:00\u001B[0m\n",
      "\u001B[2K     \u001B[90m━━━━━━━━━━━━━━━━━━━━━━━━━━━━━━━━━━━━━━\u001B[0m \u001B[32m268.8/268.8 kB\u001B[0m \u001B[31m22.3 MB/s\u001B[0m eta \u001B[36m0:00:00\u001B[0m\n",
      "\u001B[2K     \u001B[90m━━━━━━━━━━━━━━━━━━━━━━━━━━━━━━━━━━━━━━\u001B[0m \u001B[32m149.6/149.6 kB\u001B[0m \u001B[31m15.5 MB/s\u001B[0m eta \u001B[36m0:00:00\u001B[0m\n",
      "\u001B[?25h  Preparing metadata (setup.py) ... \u001B[?25l\u001B[?25hdone\n",
      "  Preparing metadata (setup.py) ... \u001B[?25l\u001B[?25hdone\n",
      "\u001B[2K     \u001B[90m━━━━━━━━━━━━━━━━━━━━━━━━━━━━━━━━━━━━━━━━\u001B[0m \u001B[32m48.4/48.4 kB\u001B[0m \u001B[31m5.0 MB/s\u001B[0m eta \u001B[36m0:00:00\u001B[0m\n",
      "\u001B[?25h  Building wheel for googletrans (setup.py) ... \u001B[?25l\u001B[?25hdone\n",
      "  Building wheel for pyautogui (pyproject.toml) ... \u001B[?25l\u001B[?25hdone\n",
      "  Building wheel for slugify (setup.py) ... \u001B[?25l\u001B[?25hdone\n",
      "  Building wheel for pygetwindow (setup.py) ... \u001B[?25l\u001B[?25hdone\n",
      "  Building wheel for pyscreeze (pyproject.toml) ... \u001B[?25l\u001B[?25hdone\n",
      "  Building wheel for pytweening (setup.py) ... \u001B[?25l\u001B[?25hdone\n",
      "  Building wheel for mouseinfo (setup.py) ... \u001B[?25l\u001B[?25hdone\n",
      "  Building wheel for pymsgbox (pyproject.toml) ... \u001B[?25l\u001B[?25hdone\n",
      "  Building wheel for python3-Xlib (setup.py) ... \u001B[?25l\u001B[?25hdone\n",
      "  Building wheel for pyperclip (setup.py) ... \u001B[?25l\u001B[?25hdone\n",
      "  Building wheel for pyrect (setup.py) ... \u001B[?25l\u001B[?25hdone\n"
     ]
    }
   ],
   "source": [
    "!pip install --quiet pandas==1.5.3\n",
    "!pip install --quiet jax>=0.1.72 tensorflow>=2.2.0 requests==2.27.1\n",
    "!pip install --upgrade --quiet beautifulsoup4 selenium googletrans pyautogui opencv-python slugify huggingface_hub datasets pillow"
   ]
  },
  {
   "cell_type": "markdown",
   "source": [
    "## Парсинг изображений и текстовых подписей с веб-страницы\n",
    "Парсинг веб-страницы с использованием библиотек requests и BeautifulSoup. Код извлекает ссылки на изображения и текстовые подписи с веб-страницы, используя заданную URL-адрес исходной страницы."
   ],
   "metadata": {
    "id": "obCHnaxwiHNk"
   }
  },
  {
   "cell_type": "code",
   "source": [
    "import requests\n",
    "from bs4 import BeautifulSoup\n",
    "import pandas as pd\n",
    "import time\n",
    "\n",
    "# Ссылка на исходную страницу\n",
    "url = 'https://www.houzz.com/photos/phbr31-bp~t_736~a_18-85-86-87--30-214-215-231--31-217-218-219-220--32-221-222-223-504--64-505-506-508-509-512-513-514-15728--69-548-549-550-551-553--3410-20895-20896-20897-20898?pg='\n",
    "\n",
    "image_links_list = []\n",
    "desc_texts_list = []\n",
    "\n",
    "for i in range(270):\n",
    "    # Отправляем GET-запрос к указанной странице\n",
    "    page_url = url + f'{i+1}'\n",
    "    while True:\n",
    "        try:\n",
    "            response = requests.get(page_url)\n",
    "            break\n",
    "        except (requests.exceptions.RequestException, IncompleteRead, ChunkedEncodingError) as e:\n",
    "            print(f\"Error occurred: {e}. Retrying in 5 seconds...\")\n",
    "            time.sleep(5)\n",
    "\n",
    "    # Создаем объект BeautifulSoup для парсинга HTML-кода\n",
    "    soup = BeautifulSoup(response.content, 'html.parser')\n",
    "\n",
    "    # Находим все элементы <img> с классом \"hz-photo-card__img\"\n",
    "    image_tags = soup.find_all('img', class_='hz-photo-card__img')\n",
    "    desc_tags = soup.find_all('div', class_='hz-photo-card__desc-text text-xs hz-photo-card__no-peek')\n",
    "\n",
    "    # Извлекаем ссылки на изображения и текстовые подписи\n",
    "    image_links = [img['src'] for img in image_tags]\n",
    "    desc_texts = [desc.get_text(strip=True) for desc in desc_tags]\n",
    "\n",
    "    image_links_list += image_links\n",
    "    desc_texts_list += desc_texts\n",
    "\n",
    "# Создаем датафрейм\n",
    "data = {\n",
    "    'id': range(1, len(image_links_list) + 1),\n",
    "    'img': image_links_list,\n",
    "    'descr': desc_texts_list\n",
    "}\n",
    "df = pd.DataFrame(data)\n",
    "len(df)"
   ],
   "metadata": {
    "colab": {
     "base_uri": "https://localhost:8080/"
    },
    "id": "Q7_QOmC1t7nj",
    "executionInfo": {
     "status": "ok",
     "timestamp": 1687179168877,
     "user_tz": -180,
     "elapsed": 350728,
     "user": {
      "displayName": "Данила Власов",
      "userId": "10847520665763514044"
     }
    },
    "outputId": "8c423386-31b4-4c9b-9260-2850eef4c41e"
   },
   "execution_count": null,
   "outputs": [
    {
     "output_type": "execute_result",
     "data": {
      "text/plain": [
       "5400"
      ]
     },
     "metadata": {},
     "execution_count": 2
    }
   ]
  },
  {
   "cell_type": "markdown",
   "source": [
    "## Отображение изображений и описаний из DataFrame\n",
    "Вывод индекса и описания из каждой строки. Кроме того, код отображает соответствующее изображение с использованием ссылки из столбца 'img'."
   ],
   "metadata": {
    "id": "uDM_DF-ajJ61"
   }
  },
  {
   "cell_type": "code",
   "source": [
    "import IPython.display as display\n",
    "\n",
    "# Итерация по каждой строке DataFrame\n",
    "for index, row in new_df_out.head(10).iterrows():\n",
    "    # Получение значений из столбцов 'img' и 'descr'\n",
    "    image_link = row['img']\n",
    "    description = row['descr']\n",
    "\n",
    "    # Вывод индекса и описания\n",
    "    print(\"Index:\", index)\n",
    "    print(\"Description:\", description)\n",
    "\n",
    "    # Отображение изображения\n",
    "    display.display(display.Image(url=image_link))\n",
    "    print(\"-------------------------------------\")"
   ],
   "metadata": {
    "colab": {
     "base_uri": "https://localhost:8080/",
     "height": 1000
    },
    "id": "GJm6ESeHsfgY",
    "executionInfo": {
     "status": "ok",
     "timestamp": 1687179171352,
     "user_tz": -180,
     "elapsed": 47,
     "user": {
      "displayName": "Данила Власов",
      "userId": "10847520665763514044"
     }
    },
    "outputId": "3de0ce5e-96fd-4bb3-b7cf-eaf58a7b61a0"
   },
   "execution_count": null,
   "outputs": [
    {
     "output_type": "stream",
     "name": "stdout",
     "text": [
      "Index: 30\n",
      "Description: Photo: SG2 designInspiration for a mid-sized eclectic multicolored two-story brick exterior home remodel with a metal roof and a gray roof\n"
     ]
    },
    {
     "output_type": "display_data",
     "data": {
      "text/html": [
       "<img src=\"https://st.hzcdn.com/fimgs/pictures/staircases/light-house-townhouse-sg2-architects-interiors-img~6b81990503585998_8529-1-2402e95-w360-h360-b0-p0.jpg\"/>"
      ],
      "text/plain": [
       "<IPython.core.display.Image object>"
      ]
     },
     "metadata": {}
    },
    {
     "output_type": "stream",
     "name": "stdout",
     "text": [
      "-------------------------------------\n",
      "Index: 32\n",
      "Description: Inspiration for a large rustic brown two-story wood and board and batten exterior home remodel in Boise with a shingle roof and a brown roof\n"
     ]
    },
    {
     "output_type": "display_data",
     "data": {
      "text/html": [
       "<img src=\"https://st.hzcdn.com/fimgs/pictures/exteriors/dry-ridge-stillwater-design-group-img~132126a1041b5f87_2845-1-52fa2b9-w360-h360-b0-p0.jpg\"/>"
      ],
      "text/plain": [
       "<IPython.core.display.Image object>"
      ]
     },
     "metadata": {}
    },
    {
     "output_type": "stream",
     "name": "stdout",
     "text": [
      "-------------------------------------\n",
      "Index: 37\n",
      "Description: Horizontal and vertical wood grid work wood boards  is overlaid on an existing 1970s home and act architectural layers to the interior of the home providing privacy and shade. A pallet of three colors  help to distinguish the layers. The project is the recipient of a National Award from the American Institute of Architects: Recognition for Small Projects.  !t also was one of three  houses designed by Donald Lococo Architects that received the  first place International HUE award for architectural color by Benjamin Moore\n"
     ]
    },
    {
     "output_type": "display_data",
     "data": {
      "text/html": [
       "<img src=\"https://st.hzcdn.com/fimgs/pictures/decks/wedge-house-donald-lococo-architects-img~6741325102aa36b1_2851-1-38d0cf6-w360-h360-b0-p0.jpg\"/>"
      ],
      "text/plain": [
       "<IPython.core.display.Image object>"
      ]
     },
     "metadata": {}
    },
    {
     "output_type": "stream",
     "name": "stdout",
     "text": [
      "-------------------------------------\n",
      "Index: 40\n",
      "Description: We added garage on the left and new driveway and landscapingLarge french country red two-story brick exterior home photo in Other with a shingle roof and a gray roof\n"
     ]
    },
    {
     "output_type": "display_data",
     "data": {
      "text/html": [
       "<img src=\"https://st.hzcdn.com/fimgs/8ca1d372028fda35_3030-w360-h360-b0-p0--.jpg\"/>"
      ],
      "text/plain": [
       "<IPython.core.display.Image object>"
      ]
     },
     "metadata": {}
    },
    {
     "output_type": "stream",
     "name": "stdout",
     "text": [
      "-------------------------------------\n",
      "Index: 45\n",
      "Description: Sunken family room addition with ICF insulated crawl space beneath it. Heated tile floors, the addition of a powder room, fireplace and large format sliding doors make this space comfortable and well connected to the exterior patio.\n"
     ]
    },
    {
     "output_type": "display_data",
     "data": {
      "text/html": [
       "<img src=\"https://st.hzcdn.com/fimgs/6e017f9b017171c5_5073-w360-h360-b0-p0--.jpg\"/>"
      ],
      "text/plain": [
       "<IPython.core.display.Image object>"
      ]
     },
     "metadata": {}
    },
    {
     "output_type": "stream",
     "name": "stdout",
     "text": [
      "-------------------------------------\n",
      "Index: 46\n",
      "Description: Magnolia - Carlsbad, CA\n",
      "\n",
      "3,000+ sf two-story home, 4 bedrooms, 3.5 baths, plus a connected two-stall garage/ exercise space with bonus room above.\n",
      "\n",
      "Magnolia is a significant transformation of the owner's childhood home. Features like the steep 12:12 metal roofs softening to 3:12 pitches; soft arch-shaped doug fir beams; custom-designed double gable brackets; exaggerated beam extensions; a detached arched/ louvered carport marching along the front of the home; an expansive rear deck with beefy brick bases with quad columns, large protruding arched beams; an arched louvered structure centered on an outdoor fireplace; cased out openings, detailed trim work throughout the home; and many other architectural features have created a unique and elegant home along Highland Ave. in Carlsbad, CA.\n"
     ]
    },
    {
     "output_type": "display_data",
     "data": {
      "text/html": [
       "<img src=\"https://st.hzcdn.com/fimgs/02d13d7e02266af9_2819-w360-h360-b0-p0--.jpg\"/>"
      ],
      "text/plain": [
       "<IPython.core.display.Image object>"
      ]
     },
     "metadata": {}
    },
    {
     "output_type": "stream",
     "name": "stdout",
     "text": [
      "-------------------------------------\n",
      "Index: 48\n",
      "Description: Inspiration for a large contemporary gray split-level brick exterior home remodel in Newcastle - Maitland with a metal roof and a gray roof\n"
     ]
    },
    {
     "output_type": "display_data",
     "data": {
      "text/html": [
       "<img src=\"https://st.hzcdn.com/fimgs/pictures/exteriors/wallaringa-road-residence-liz-kalaf-photography-img~ea8154080fb67302_6272-1-9fd5d8e-w360-h360-b0-p0.jpg\"/>"
      ],
      "text/plain": [
       "<IPython.core.display.Image object>"
      ]
     },
     "metadata": {}
    },
    {
     "output_type": "stream",
     "name": "stdout",
     "text": [
      "-------------------------------------\n",
      "Index: 53\n",
      "Description: アウトドアを楽しむ 無垢の平屋の暮らし\n",
      "～緑を感じておうちで過ごす～\n",
      "木のぬくもりや、癒しの香りそして緑が心地よい空間を演出。深呼吸したくなる住まいです。\n",
      "平屋ならではのフラットな動線が生み出す、ゆたかな暮らしを是非ご体感下さい。Small gray one-story mixed siding exterior home photo in Other with a metal roof and a black roof\n"
     ]
    },
    {
     "output_type": "display_data",
     "data": {
      "text/html": [
       "<img src=\"https://st.hzcdn.com/fimgs/f8f1e8af02ce5f70_5551-w360-h360-b0-p0--.jpg\"/>"
      ],
      "text/plain": [
       "<IPython.core.display.Image object>"
      ]
     },
     "metadata": {}
    },
    {
     "output_type": "stream",
     "name": "stdout",
     "text": [
      "-------------------------------------\n",
      "Index: 55\n",
      "Description: Mid-sized farmhouse white two-story mixed siding and board and batten exterior home idea in Other with a shingle roof and a gray roof\n"
     ]
    },
    {
     "output_type": "display_data",
     "data": {
      "text/html": [
       "<img src=\"https://st.hzcdn.com/fimgs/8b6101d00fe0d086_2625-w360-h360-b0-p0--.jpg\"/>"
      ],
      "text/plain": [
       "<IPython.core.display.Image object>"
      ]
     },
     "metadata": {}
    },
    {
     "output_type": "stream",
     "name": "stdout",
     "text": [
      "-------------------------------------\n",
      "Index: 63\n",
      "Description: Two story transitional style house in the desirable city of Winter Park, Florida (just north of Orlando). This white stucco house with contrasting gray tiled roof, black windows and aluminum shutters has instant curb appeal. Paver driveway and gas lit lanterns and sconces lead you through the landscaped front yard to the large pivot front door. Accent white brick adds texture and sophistication to the building's facade.\n"
     ]
    },
    {
     "output_type": "display_data",
     "data": {
      "text/html": [
       "<img src=\"https://st.hzcdn.com/fimgs/pictures/exteriors/2218-via-tuscany-zoltan-construction-llc-img~45712b2b0ebd74c4_0679-1-e2fdd36-w360-h360-b0-p0.jpg\"/>"
      ],
      "text/plain": [
       "<IPython.core.display.Image object>"
      ]
     },
     "metadata": {}
    },
    {
     "output_type": "stream",
     "name": "stdout",
     "text": [
      "-------------------------------------\n"
     ]
    }
   ]
  },
  {
   "cell_type": "markdown",
   "source": [
    "## Очистка текста и удаление повторяющихся строк в DataFrame\n",
    "Очистка текста от нежелательных символов с помощью функции clean_text."
   ],
   "metadata": {
    "id": "zF-3Cj9pj75J"
   }
  },
  {
   "cell_type": "code",
   "source": [
    "import re\n",
    "\n",
    "# Функция для очистки текста от нежелательных символов\n",
    "def clean_text(text):\n",
    "    cleaned_text = re.sub(r'[^a-zA-Z0-9\\s.,-:;]', '', text)\n",
    "    return cleaned_text\n",
    "\n",
    "# Создание копии DataFrame new_df\n",
    "new_df_copy = df.copy()\n",
    "\n",
    "# Очистка описаний в копии DataFrame\n",
    "new_df_copy['descr'] = new_df_copy['descr'].apply(clean_text)"
   ],
   "metadata": {
    "id": "JNurd1UOySW-"
   },
   "execution_count": null,
   "outputs": []
  },
  {
   "cell_type": "markdown",
   "source": [
    "Удаление повторяющихся строк в DataFrame new_df_copy на основе столбцов 'img' и 'descr'."
   ],
   "metadata": {
    "id": "83j0TAyHdfQM"
   }
  },
  {
   "cell_type": "code",
   "source": [
    "# Проверка и удаление повторяющихся строк по столбцам 'img' и 'descr'\n",
    "new_df_copy.drop_duplicates(subset=['img', 'descr'], keep='first', inplace=True)"
   ],
   "metadata": {
    "id": "9AGxWmMXnMMz"
   },
   "execution_count": null,
   "outputs": []
  },
  {
   "cell_type": "code",
   "source": [
    "len(new_df_copy)"
   ],
   "metadata": {
    "colab": {
     "base_uri": "https://localhost:8080/"
    },
    "id": "mY218mfWnR_F",
    "executionInfo": {
     "status": "ok",
     "timestamp": 1687179331911,
     "user_tz": -180,
     "elapsed": 33,
     "user": {
      "displayName": "Данила Власов",
      "userId": "10847520665763514044"
     }
    },
    "outputId": "7a980c31-8ec5-4fa6-b869-8dd7345f02a1"
   },
   "execution_count": null,
   "outputs": [
    {
     "output_type": "execute_result",
     "data": {
      "text/plain": [
       "3303"
      ]
     },
     "metadata": {},
     "execution_count": 14
    }
   ]
  },
  {
   "cell_type": "markdown",
   "source": [
    "## Фильтрация DataFrame на основе наличия целевых слов\n",
    "Фильтрация DataFrame new_df_copy на основе наличия целевых слов из списка target_words."
   ],
   "metadata": {
    "id": "b12usKONk533"
   }
  },
  {
   "cell_type": "code",
   "source": [
    "# Список слов для фильтрации\n",
    "target_words = ['exterior', 'home', 'house', 'compact', 'medium', 'large', 'one-story', 'two-story', 'three-story', 'story', 'split-level', 'split', 'level', 'siding material', 'mixed', 'wood', 'stucco', 'brick', 'white', 'beige', 'gray', 'brown', 'multi', 'black', 'red', 'yellow', 'gable', 'hip', 'shed', 'flat', 'clipped']\n",
    "\n",
    "# Фильтрация датафрейма на основе наличия целевых слов\n",
    "filtered_df_tw6 = new_df_copy[new_df_copy['descr'].apply(lambda x: sum(word in x for word in target_words) >= 6)]\n",
    "filtered_df_tw7 = new_df_copy[new_df_copy['descr'].apply(lambda x: sum(word in x for word in target_words) >= 7)]\n",
    "filtered_df_tw8 = new_df_copy[new_df_copy['descr'].apply(lambda x: sum(word in x for word in target_words) >= 8)]"
   ],
   "metadata": {
    "id": "7eVtUw4RztO1"
   },
   "execution_count": null,
   "outputs": []
  },
  {
   "cell_type": "code",
   "source": [
    "len(filtered_df_tw6), len(filtered_df_tw7), len(filtered_df_tw8)"
   ],
   "metadata": {
    "colab": {
     "base_uri": "https://localhost:8080/"
    },
    "id": "wH8ZXM0iz1nR",
    "executionInfo": {
     "status": "ok",
     "timestamp": 1687179357111,
     "user_tz": -180,
     "elapsed": 365,
     "user": {
      "displayName": "Данила Власов",
      "userId": "10847520665763514044"
     }
    },
    "outputId": "07a9e076-8305-4f8e-fd37-c4e47e188c4e"
   },
   "execution_count": null,
   "outputs": [
    {
     "output_type": "execute_result",
     "data": {
      "text/plain": [
       "(2344, 2140, 1351)"
      ]
     },
     "metadata": {},
     "execution_count": 16
    }
   ]
  },
  {
   "cell_type": "markdown",
   "source": [
    "# Чтение экселевского файла с Google Диска и отображение изображений\n",
    "Чтение экселевского файла с Google Диска, проверка отсутствующих изображений, добавление отсутствующих строк в конец экселевского файла."
   ],
   "metadata": {
    "id": "qdq5Q0aolhGk"
   }
  },
  {
   "cell_type": "code",
   "source": [
    "from google.colab import drive\n",
    "drive.mount('/content/drive')"
   ],
   "metadata": {
    "colab": {
     "base_uri": "https://localhost:8080/"
    },
    "id": "DFZUHFWcxcVf",
    "executionInfo": {
     "status": "ok",
     "timestamp": 1687180185605,
     "user_tz": -180,
     "elapsed": 44801,
     "user": {
      "displayName": "Данила Власов",
      "userId": "10847520665763514044"
     }
    },
    "outputId": "813f65e8-7d94-42e6-fd15-622b9100a533"
   },
   "execution_count": null,
   "outputs": [
    {
     "output_type": "stream",
     "name": "stdout",
     "text": [
      "Mounted at /content/drive\n"
     ]
    }
   ]
  },
  {
   "cell_type": "code",
   "source": [
    "# Чтение экселевского файла с гугл диска\n",
    "csv_file_path = '/content/drive/MyDrive/Colab Notebooks/Study/DrawHomeAI/Subsets/filtered_df_tw6 - filtered_df_tw6.csv'\n",
    "csv_df = pd.read_csv(csv_file_path)\n",
    "\n",
    "# Проверка отсутствующих изображений\n",
    "missing_images = filtered_df_tw6[~filtered_df_tw6['img'].isin(csv_df['img'])]\n",
    "\n",
    "# Добавление отсутствующих строк в конец экселевского файла\n",
    "updated_csv_df = pd.concat([csv_df, missing_images])\n",
    "\n",
    "# Сохранение обновленного экселевского файла\n",
    "updated_csv_file_path = '/content/drive/MyDrive/Colab Notebooks/Study/DrawHomeAI/Subsets/updated_filtered_df_tw6.csv'\n",
    "updated_csv_df.to_csv(updated_csv_file_path, index=False)"
   ],
   "metadata": {
    "id": "RXsiuTYSxuix"
   },
   "execution_count": null,
   "outputs": []
  },
  {
   "cell_type": "markdown",
   "source": [
    "Отображение изображений с описаниями."
   ],
   "metadata": {
    "id": "UbPhDfvsdvyG"
   }
  },
  {
   "cell_type": "code",
   "source": [
    "import IPython.display as display\n",
    "\n",
    "# Итерация по каждой строке DataFrame\n",
    "for index, row in filtered_df_tw6.head(10).iterrows():\n",
    "    # Получение значений из столбцов 'img' и 'descr'\n",
    "    image_link = row['img']\n",
    "    description = row['descr']\n",
    "\n",
    "    # Вывод индекса и описания\n",
    "    print(\"Index:\", index)\n",
    "    print(\"Description:\", description)\n",
    "\n",
    "    # Отображение изображения\n",
    "    display.display(display.Image(url=image_link))\n",
    "    print(\"-------------------------------------\")"
   ],
   "metadata": {
    "colab": {
     "base_uri": "https://localhost:8080/",
     "height": 1000
    },
    "id": "Xhflo3XXmMQZ",
    "executionInfo": {
     "status": "ok",
     "timestamp": 1687179369642,
     "user_tz": -180,
     "elapsed": 409,
     "user": {
      "displayName": "Данила Власов",
      "userId": "10847520665763514044"
     }
    },
    "outputId": "b501c2d3-26bf-4e7f-a648-07a328d052bc"
   },
   "execution_count": null,
   "outputs": [
    {
     "output_type": "stream",
     "name": "stdout",
     "text": [
      "Index: 1\n",
      "Description: Inspiration for a large cottage white two-story wood exterior home remodel in Denver with a mixed material roof and a red roof\n"
     ]
    },
    {
     "output_type": "display_data",
     "data": {
      "text/html": [
       "<img src=\"https://st.hzcdn.com/fimgs/pictures/exteriors/stapleton-parade-house-kga-studio-architects-pc-img~8061067800787270_6227-1-acc2fe4-w360-h360-b0-p0.jpg\"/>"
      ],
      "text/plain": [
       "<IPython.core.display.Image object>"
      ]
     },
     "metadata": {}
    },
    {
     "output_type": "stream",
     "name": "stdout",
     "text": [
      "-------------------------------------\n",
      "Index: 5\n",
      "Description: Tripp SmithLarge beach style brown three-story wood and shingle house exterior photo in Charleston with a hip roof, a mixed material roof and a gray roof\n"
     ]
    },
    {
     "output_type": "display_data",
     "data": {
      "text/html": [
       "<img src=\"https://st.hzcdn.com/fimgs/pictures/exteriors/daniel-island-residence-1-architrave-img~7d41d040022a39c1_8639-1-a26a999-w360-h360-b0-p0.jpg\"/>"
      ],
      "text/plain": [
       "<IPython.core.display.Image object>"
      ]
     },
     "metadata": {}
    },
    {
     "output_type": "stream",
     "name": "stdout",
     "text": [
      "-------------------------------------\n",
      "Index: 6\n",
      "Description: Rear garden and a full length extension with folding glass doors.\n",
      "\n",
      " Photo by Chris SnookExample of a large minimalist multicolored three-story stucco exterior home design in London with a shingle roof and a red roof\n"
     ]
    },
    {
     "output_type": "display_data",
     "data": {
      "text/html": [
       "<img src=\"https://st.hzcdn.com/fimgs/pictures/house-exteriors/west-hampstead-family-residence-vorbild-architecture-img~ad4146440b2106e6_9560-1-16b2e67-w360-h360-b0-p0.jpg\"/>"
      ],
      "text/plain": [
       "<IPython.core.display.Image object>"
      ]
     },
     "metadata": {}
    },
    {
     "output_type": "stream",
     "name": "stdout",
     "text": [
      "-------------------------------------\n",
      "Index: 8\n",
      "Description: Large contemporary multicolored three-story brick exterior home idea in San Francisco with a metal roof and a black roof\n"
     ]
    },
    {
     "output_type": "display_data",
     "data": {
      "text/html": [
       "<img src=\"https://st.hzcdn.com/fimgs/pictures/exteriors/new-custom-modern-single-family-home-mesh-dbs-img~f4d17951022793d8_7841-1-01dda3b-w360-h360-b0-p0.jpg\"/>"
      ],
      "text/plain": [
       "<IPython.core.display.Image object>"
      ]
     },
     "metadata": {}
    },
    {
     "output_type": "stream",
     "name": "stdout",
     "text": [
      "-------------------------------------\n",
      "Index: 9\n",
      "Description: Large elegant red three-story brick exterior home photo in Chicago with a shingle roof and a gray roof\n"
     ]
    },
    {
     "output_type": "display_data",
     "data": {
      "text/html": [
       "<img src=\"https://st.hzcdn.com/fimgs/pictures/exteriors/addition-and-renovation-hackley-and-associates-architects-inc-img~0c41e2b0065495c1_5058-1-8624882-w360-h360-b0-p0.jpg\"/>"
      ],
      "text/plain": [
       "<IPython.core.display.Image object>"
      ]
     },
     "metadata": {}
    },
    {
     "output_type": "stream",
     "name": "stdout",
     "text": [
      "-------------------------------------\n",
      "Index: 11\n",
      "Description: Parkland Estates New Mediterranean\n",
      "RIMO PHOTO LLC - Rich MontalbanoInspiration for a large mediterranean white two-story stucco house exterior remodel in Tampa with a hip roof, a tile roof and a red roof\n"
     ]
    },
    {
     "output_type": "display_data",
     "data": {
      "text/html": [
       "<img src=\"https://st.hzcdn.com/fimgs/pictures/exteriors/parkland-estates-2014-hittmeier-design-consultants-img~d2b17a8b0627f2cb_3231-1-d861c3e-w360-h360-b0-p0.jpg\"/>"
      ],
      "text/plain": [
       "<IPython.core.display.Image object>"
      ]
     },
     "metadata": {}
    },
    {
     "output_type": "stream",
     "name": "stdout",
     "text": [
      "-------------------------------------\n",
      "Index: 12\n",
      "Description: Example of a mid-sized arts and crafts gray two-story wood and shingle exterior home design in Other with a shingle roof and a gray roof\n"
     ]
    },
    {
     "output_type": "display_data",
     "data": {
      "text/html": [
       "<img src=\"https://st.hzcdn.com/fimgs/pictures/exteriors/mackinac-island-shoreline-architecture-and-design-img~24b1bced071e2a09_4178-1-601f048-w360-h360-b0-p0.jpg\"/>"
      ],
      "text/plain": [
       "<IPython.core.display.Image object>"
      ]
     },
     "metadata": {}
    },
    {
     "output_type": "stream",
     "name": "stdout",
     "text": [
      "-------------------------------------\n",
      "Index: 13\n",
      "Description: Kiawah Island Real EstateMid-sized transitional gray three-story wood exterior home photo in Charleston with a shingle roof and a gray roof\n"
     ]
    },
    {
     "output_type": "display_data",
     "data": {
      "text/html": [
       "<img src=\"https://st.hzcdn.com/fimgs/pictures/exteriors/berkshire-hall-kiawah-island-architrave-img~25d139e6076c513f_9629-1-6da0a7c-w360-h360-b0-p0.jpg\"/>"
      ],
      "text/plain": [
       "<IPython.core.display.Image object>"
      ]
     },
     "metadata": {}
    },
    {
     "output_type": "stream",
     "name": "stdout",
     "text": [
      "-------------------------------------\n",
      "Index: 14\n",
      "Description: View from beach.Inspiration for a mid-sized coastal gray two-story mixed siding and board and batten exterior home remodel in Seattle with a shingle roof and a gray roof\n"
     ]
    },
    {
     "output_type": "display_data",
     "data": {
      "text/html": [
       "<img src=\"https://st.hzcdn.com/fimgs/pictures/exteriors/skagit-bay-waterfront-camano-island-wa-dan-nelson-designs-northwest-architects-img~e9912fda02f941dd_1724-1-ebbae6b-w360-h360-b0-p0.jpg\"/>"
      ],
      "text/plain": [
       "<IPython.core.display.Image object>"
      ]
     },
     "metadata": {}
    },
    {
     "output_type": "stream",
     "name": "stdout",
     "text": [
      "-------------------------------------\n",
      "Index: 15\n",
      "Description: Example of a large danish white two-story mixed siding house exterior design in Other with a shed roof, a metal roof and a gray roof\n"
     ]
    },
    {
     "output_type": "display_data",
     "data": {
      "text/html": [
       "<img src=\"https://st.hzcdn.com/fimgs/pictures/家の外観/豊橋市-八町通の家-株式会社kotori-img~30019cd60cc259f2_4772-1-968b0d4-w360-h360-b0-p0.jpg\"/>"
      ],
      "text/plain": [
       "<IPython.core.display.Image object>"
      ]
     },
     "metadata": {}
    },
    {
     "output_type": "stream",
     "name": "stdout",
     "text": [
      "-------------------------------------\n"
     ]
    }
   ]
  }
 ]
}
