{
 "nbformat": 4,
 "nbformat_minor": 0,
 "metadata": {
  "colab": {
   "provenance": [
    {
     "file_id": "123jNyBqOzpxX-KV-Crxclz94uKCGae8i",
     "timestamp": 1687116938902
    }
   ],
   "gpuType": "T4"
  },
  "kernelspec": {
   "name": "python3",
   "display_name": "Python 3"
  },
  "language_info": {
   "name": "python"
  },
  "accelerator": "GPU"
 },
 "cells": [
  {
   "cell_type": "markdown",
   "source": [
    "## Установка библиотек"
   ],
   "metadata": {
    "id": "EuT3Ks14sJPa"
   }
  },
  {
   "cell_type": "code",
   "source": [
    "%pip install --quiet --upgrade mediapy python-telegram-bot telegram redis telebot\n",
    "%pip install --quiet --upgrade diffusers accelerate mediapy triton scipy ftfy transformers\n",
    "%pip install --quiet spacy==3.5.0\n",
    "%pip install --quiet torch==1.13.1 torchvision==0.14.1 torchaudio==0.13.1 torchtext==0.14.1 torchdata==0.5.1\n",
    "# Пакет xformers обязателен для создания нескольких изображений размером 768x768\n",
    "%pip install --quiet xformers==0.0.16rc425"
   ],
   "metadata": {
    "colab": {
     "base_uri": "https://localhost:8080/"
    },
    "id": "6SsiiI9xQZOO",
    "outputId": "2820362e-d382-4873-b43d-3c2507505645",
    "executionInfo": {
     "status": "ok",
     "timestamp": 1687117926142,
     "user_tz": -180,
     "elapsed": 37395,
     "user": {
      "displayName": "Данила Власов",
      "userId": "10847520665763514044"
     }
    }
   },
   "execution_count": null,
   "outputs": [
    {
     "output_type": "stream",
     "name": "stdout",
     "text": [
      "\u001B[2K     \u001B[90m━━━━━━━━━━━━━━━━━━━━━━━━━━━━━━━━━━━━━━━━\u001B[0m \u001B[32m24.2/24.2 MB\u001B[0m \u001B[31m49.6 MB/s\u001B[0m eta \u001B[36m0:00:00\u001B[0m\n",
      "\u001B[2K     \u001B[90m━━━━━━━━━━━━━━━━━━━━━━━━━━━━━━━━━━━━━━━━\u001B[0m \u001B[32m4.2/4.2 MB\u001B[0m \u001B[31m69.4 MB/s\u001B[0m eta \u001B[36m0:00:00\u001B[0m\n",
      "\u001B[2K     \u001B[90m━━━━━━━━━━━━━━━━━━━━━━━━━━━━━━━━━━━━━━━━\u001B[0m \u001B[32m2.0/2.0 MB\u001B[0m \u001B[31m66.7 MB/s\u001B[0m eta \u001B[36m0:00:00\u001B[0m\n",
      "\u001B[2K     \u001B[90m━━━━━━━━━━━━━━━━━━━━━━━━━━━━━━━━━━━━━━━━\u001B[0m \u001B[32m4.6/4.6 MB\u001B[0m \u001B[31m78.8 MB/s\u001B[0m eta \u001B[36m0:00:00\u001B[0m\n",
      "\u001B[?25h"
     ]
    }
   ]
  },
  {
   "cell_type": "markdown",
   "source": [
    "## Импорт модулей"
   ],
   "metadata": {
    "id": "3FcemHB2sP_5"
   }
  },
  {
   "cell_type": "code",
   "source": [
    "import torch\n",
    "from diffusers import StableDiffusionPipeline\n",
    "import requests\n",
    "import redis\n",
    "import json\n",
    "import io"
   ],
   "metadata": {
    "id": "YQG90qP5P8tp"
   },
   "execution_count": null,
   "outputs": []
  },
  {
   "cell_type": "markdown",
   "source": [
    "## Генерация и отправка изображений домов в Telegram"
   ],
   "metadata": {
    "id": "-cck-8iusjBY"
   }
  },
  {
   "cell_type": "code",
   "execution_count": null,
   "metadata": {
    "id": "dN1zE4OplrYg"
   },
   "outputs": [],
   "source": [
    "# Настройки модели Diffusion\n",
    "device = \"cuda\"\n",
    "model_id = \"stabilityai/stable-diffusion-2-1\"\n",
    "model_revision = \"fp16\"\n",
    "image_length = 768\n",
    "\n",
    "# Настройки подключения к Redis\n",
    "redis_host = 'redis-13865.c1.asia-northeast1-1.gce.cloud.redislabs.com'\n",
    "redis_port = 13865\n",
    "redis_password = 'AjuhoBzf8IF3TmxG1SE3yFoMWh2q19Kt'\n",
    "\n",
    "# Создание экземпляра клиента Redis\n",
    "r = redis.Redis(host=redis_host, port=redis_port, password=redis_password)\n",
    "\n",
    "bot_token = \"6266329963:AAFAo5KOFAjRwUNFUGaX-WchaRXA82CA7iI\"\n",
    "url = f\"https://api.telegram.org/bot{bot_token}/sendPhoto\"\n",
    "\n",
    "\n",
    "def main():\n",
    "    def generate_and_send_image(house_data):\n",
    "        user_id = house_data['id']\n",
    "\n",
    "        # Генерация изображения на основе параметров дома\n",
    "        prompt = \"Generate an image of a house with the following specifications:\"\n",
    "        for key, value in house_data.items():\n",
    "            if key != \"id\" and key != \"image\":\n",
    "                prompt += f\"\\n{key.capitalize()}: {value}\"\n",
    "\n",
    "        # Создание и настройка конвейера\n",
    "        pipe = StableDiffusionPipeline.from_pretrained(\n",
    "            model_id,\n",
    "            torch_dtype=torch.float16,\n",
    "            revision=model_revision,\n",
    "        )\n",
    "        pipe = pipe.to(device)\n",
    "        pipe.enable_xformers_memory_efficient_attention()\n",
    "\n",
    "        # Генерация изображений\n",
    "        images = pipe(\n",
    "            prompt,\n",
    "            height=image_length,\n",
    "            width=image_length,\n",
    "            num_inference_steps=25,\n",
    "            guidance_scale=9,\n",
    "            num_images_per_prompt=1,\n",
    "            generator=torch.Generator(\"cuda\")\n",
    "        ).images\n",
    "\n",
    "        # Преобразование изображения в байты\n",
    "        byte_stream = io.BytesIO()\n",
    "        images[0].save(byte_stream, format='JPEG')\n",
    "        image_bytes = byte_stream.getvalue()\n",
    "\n",
    "        params = {\n",
    "            'chat_id': user_id\n",
    "        }\n",
    "        files = {\n",
    "            \"photo\": (\"image.jpeg\", image_bytes)\n",
    "        }\n",
    "        response = requests.post(url=url, params=params, files=files)\n",
    "\n",
    "        # Проверка статуса кода ответа\n",
    "        if response.status_code == 200:\n",
    "            print(f'Фото успешно отправлено в Telegram для пользователя c ID {user_id}')\n",
    "        else:\n",
    "            print('Произошла ошибка при отправке фото в Telegram')\n",
    "            print(f\"Ошибка при отправке фото в Telegram. Код ответа: {response.status_code}\")\n",
    "            print(f\"Текст ошибки: {response.text}\")\n",
    "\n",
    "        r.delete(user_id)\n",
    "\n",
    "    while True:\n",
    "        keys = r.keys(\"*\")\n",
    "        for item in keys:\n",
    "            data = (r.mget(item))[0]\n",
    "            data = data.decode()\n",
    "            house_data = json.loads(data)\n",
    "            generate_and_send_image(house_data)\n",
    "\n",
    "\n",
    "main()"
   ]
  }
 ]
}
