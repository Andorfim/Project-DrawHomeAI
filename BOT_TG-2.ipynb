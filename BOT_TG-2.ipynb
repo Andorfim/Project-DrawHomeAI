{
 "nbformat": 4,
 "nbformat_minor": 0,
 "metadata": {
  "colab": {
   "provenance": [
    {
     "file_id": "18FFBoD3jQK4EeNgD1tFH5G5X7DW3piJJ",
     "timestamp": 1687117195675
    }
   ],
   "gpuType": "T4"
  },
  "kernelspec": {
   "name": "python3",
   "display_name": "Python 3"
  },
  "language_info": {
   "name": "python"
  }
 },
 "cells": [
  {
   "cell_type": "markdown",
   "source": [
    "## Установка и обновление пакетов для Telegram бота"
   ],
   "metadata": {
    "id": "qcs3QUYtpCx-"
   }
  },
  {
   "cell_type": "code",
   "source": [
    "%pip install --quiet --upgrade telebot redis telegram python-telegram-bot"
   ],
   "metadata": {
    "colab": {
     "base_uri": "https://localhost:8080/"
    },
    "id": "ZOCkpW4pQbG0",
    "outputId": "bd09769b-fba2-4760-a62a-4ea37452f114",
    "executionInfo": {
     "status": "ok",
     "timestamp": 1687117979281,
     "user_tz": -180,
     "elapsed": 11040,
     "user": {
      "displayName": "Danila Vlasov",
      "userId": "14925363309788185842"
     }
    }
   },
   "execution_count": null,
   "outputs": [
    {
     "output_type": "stream",
     "name": "stdout",
     "text": [
      "\u001B[?25l     \u001B[90m━━━━━━━━━━━━━━━━━━━━━━━━━━━━━━━━━━━━━━━━\u001B[0m \u001B[32m0.0/240.3 kB\u001B[0m \u001B[31m?\u001B[0m eta \u001B[36m-:--:--\u001B[0m\r\u001B[2K     \u001B[91m━━━━━━━━━━━━━━━━━━━━━━━━━━━━━━━━━━━━━━\u001B[0m\u001B[90m╺\u001B[0m \u001B[32m235.5/240.3 kB\u001B[0m \u001B[31m7.1 MB/s\u001B[0m eta \u001B[36m0:00:01\u001B[0m\r\u001B[2K     \u001B[90m━━━━━━━━━━━━━━━━━━━━━━━━━━━━━━━━━━━━━━━\u001B[0m \u001B[32m240.3/240.3 kB\u001B[0m \u001B[31m5.0 MB/s\u001B[0m eta \u001B[36m0:00:00\u001B[0m\n",
      "\u001B[?25h  Preparing metadata (setup.py) ... \u001B[?25l\u001B[?25hdone\n",
      "\u001B[2K     \u001B[90m━━━━━━━━━━━━━━━━━━━━━━━━━━━━━━━━━━━━━━\u001B[0m \u001B[32m545.4/545.4 kB\u001B[0m \u001B[31m22.3 MB/s\u001B[0m eta \u001B[36m0:00:00\u001B[0m\n",
      "\u001B[2K     \u001B[90m━━━━━━━━━━━━━━━━━━━━━━━━━━━━━━━━━━━━━━\u001B[0m \u001B[32m232.0/232.0 kB\u001B[0m \u001B[31m19.8 MB/s\u001B[0m eta \u001B[36m0:00:00\u001B[0m\n",
      "\u001B[?25h  Preparing metadata (setup.py) ... \u001B[?25l\u001B[?25hdone\n",
      "\u001B[2K     \u001B[90m━━━━━━━━━━━━━━━━━━━━━━━━━━━━━━━━━━━━━━━━\u001B[0m \u001B[32m75.4/75.4 kB\u001B[0m \u001B[31m7.6 MB/s\u001B[0m eta \u001B[36m0:00:00\u001B[0m\n",
      "\u001B[2K     \u001B[90m━━━━━━━━━━━━━━━━━━━━━━━━━━━━━━━━━━━━━━━━\u001B[0m \u001B[32m72.5/72.5 kB\u001B[0m \u001B[31m6.2 MB/s\u001B[0m eta \u001B[36m0:00:00\u001B[0m\n",
      "\u001B[2K     \u001B[90m━━━━━━━━━━━━━━━━━━━━━━━━━━━━━━━━━━━━━━━━\u001B[0m \u001B[32m58.3/58.3 kB\u001B[0m \u001B[31m5.1 MB/s\u001B[0m eta \u001B[36m0:00:00\u001B[0m\n",
      "\u001B[?25h  Building wheel for telegram (setup.py) ... \u001B[?25l\u001B[?25hdone\n",
      "  Building wheel for pyTelegramBotAPI (setup.py) ... \u001B[?25l\u001B[?25hdone\n"
     ]
    }
   ]
  },
  {
   "cell_type": "markdown",
   "source": [
    "## Библиотеки и модули для работы с Redis и Telegram ботом"
   ],
   "metadata": {
    "id": "_HK-Zae8pGsl"
   }
  },
  {
   "cell_type": "code",
   "source": [
    "import redis\n",
    "import telebot\n",
    "import json\n",
    "from telebot import types\n",
    "from telebot.util import async_dec"
   ],
   "metadata": {
    "id": "W9C2skxzuPsy"
   },
   "execution_count": null,
   "outputs": []
  },
  {
   "cell_type": "markdown",
   "source": [
    "## Telegram бот для создания моделей домов с использованием Redis"
   ],
   "metadata": {
    "id": "UAvAlry_pN65"
   }
  },
  {
   "cell_type": "code",
   "execution_count": null,
   "metadata": {
    "colab": {
     "base_uri": "https://localhost:8080/"
    },
    "id": "eoKbjJSOQWWW",
    "outputId": "62fbdbca-65ba-49cf-ca73-64ea2d89358a",
    "executionInfo": {
     "status": "ok",
     "timestamp": 1687118303532,
     "user_tz": -180,
     "elapsed": 323881,
     "user": {
      "displayName": "Danila Vlasov",
      "userId": "14925363309788185842"
     }
    }
   },
   "outputs": [
    {
     "output_type": "stream",
     "name": "stdout",
     "text": [
      "{\"id\": \"1655476081\", \"budget\": \"$$$\", \"size\": \"large\", \"number of stories\": \"three-story\", \"siding material\": \"mixed siding\", \"siding color\": \"multi\", \"roof type\": \"clipped gable\", \"roof color\": \"gray\", \"image\": \"\"}\n",
      "Файл JSON успешно сохранен в Redis.\n"
     ]
    }
   ],
   "source": [
    "TOKEN = '6266329963:AAFAo5KOFAjRwUNFUGaX-WchaRXA82CA7iI'\n",
    "bot = telebot.TeleBot(TOKEN)\n",
    "\n",
    "# Установка соединения с Redis\n",
    "redis_host = 'redis-13865.c1.asia-northeast1-1.gce.cloud.redislabs.com'\n",
    "redis_port = 13865\n",
    "redis_password = 'AjuhoBzf8IF3TmxG1SE3yFoMWh2q19Kt'\n",
    "redis_client = redis.Redis(host=redis_host, port=redis_port, password=redis_password)\n",
    "r = redis.Redis(host=redis_host, port=redis_port, password=redis_password)\n",
    "\n",
    "button_sets = [\n",
    "    {\n",
    "        \"question\": \"Выберете бюджет:\",\n",
    "        \"buttons\": [\"$\", \"$$\", \"$$$\", \"СБРОС и заново\"]\n",
    "    },\n",
    "    {\n",
    "        \"question\": \"Выберите размер дома:\",\n",
    "        \"buttons\": [\"Небольшой\", \"Средний\", \"Большой\", \"СБРОС и заново\"]\n",
    "    },\n",
    "    {\n",
    "        \"question\": \"Выберите количество этажей:\",\n",
    "        \"buttons\": [\"1\", \"2\", \"3\", \"Разноуровневый дом\", \"СБРОС и заново\"]\n",
    "    },\n",
    "    {\n",
    "        \"question\": \"Выберете материал фасада:\",\n",
    "        \"buttons\": [\"Комбинированный\", \"Дерево\", \"Штукатурка\", \"Кирпич\", \"СБРОС и заново\"]\n",
    "    },\n",
    "    {\n",
    "        \"question\": \"Выберете цвет фасада:\",\n",
    "        \"buttons\": [\"Белый\", \"Бежевый\", \"Серый\", \"Коричневый\", \"Мультицвет\", \"Черный\", \"Красный\", \"Желтый\",\n",
    "                    \"СБРОС и заново\"]\n",
    "    },\n",
    "    {\n",
    "        \"question\": \"Выберете форму крыши:\",\n",
    "        \"buttons\": [\"Двускатная\", \"Вальмовая\", \"Односкатная\", \"Плоская\", \"Полувальмовая\", \"СБРОС и заново\"]\n",
    "    },\n",
    "    {\n",
    "        \"question\": \"Выберете цвет крыши:\",\n",
    "        \"buttons\": [\"Серый\", \"Черный\", \"Коричневый\", \"Красный\", \"СБРОС и заново\"]\n",
    "    },\n",
    "]\n",
    "\n",
    "# Сопоставление выбора пользователя с условием в модели дома\n",
    "condition = {\n",
    "    \"$\": \"$\",\n",
    "    \"$$\": \"$$\",\n",
    "    \"$$$\": \"$$$\",\n",
    "    \"Небольшой\": \"compact\",\n",
    "    \"Средний\": \"medium\",\n",
    "    \"Большой\": \"large\",\n",
    "    \"1\": \"one-story\",\n",
    "    \"2\": \"two-story\",\n",
    "    \"3\": \"three-story\",\n",
    "    \"Разноуровневый дом\": \"split-level\",\n",
    "    \"Комбинированный\": \"mixed siding\",\n",
    "    \"Дерево\": \"wood\",\n",
    "    \"Штукатурка\": \"stucco\",\n",
    "    \"Кирпич\": \"brick\",\n",
    "    \"Белый\": \"white\",\n",
    "    \"Бежевый\": \"beige\",\n",
    "    \"Серый\": \"gray\",\n",
    "    \"Коричневый\": \"brown\",\n",
    "    \"Мультицвет\": \"multi\",\n",
    "    \"Черный\": \"black\",\n",
    "    \"Красный\": \"red\",\n",
    "    \"Желтый\": \"yellow\",\n",
    "    \"Двускатная\": \"gable\",\n",
    "    \"Вальмовая\": \"hip\",\n",
    "    \"Односкатная\": \"shed\",\n",
    "    \"Плоская\": \"flat\",\n",
    "    \"Полувальмовая\": \"clipped gable\",\n",
    "    \"бюджет\": \"budget\",\n",
    "    \"размер дома\": \"size\",\n",
    "    \"количество этажей\": \"number of stories\",\n",
    "    \"материал фасада\": \"siding material\",\n",
    "    \"цвет фасада\": \"siding color\",\n",
    "    \"форму крыши\": \"roof type\",\n",
    "    \"цвет крыши\": \"roof color\"\n",
    "}\n",
    "\n",
    "condition_users = []\n",
    "\n",
    "user_choices = {}\n",
    "\n",
    "@bot.message_handler(commands=['start'])\n",
    "@async_dec()\n",
    "def start(message):\n",
    "    # Начало создания модели дома\n",
    "    send_buttons(message.chat.id, 0)\n",
    "\n",
    "\n",
    "@bot.message_handler(func=lambda message: True)\n",
    "@async_dec()\n",
    "def handle_message(message):\n",
    "    chat_id = message.chat.id\n",
    "    user_id = str(chat_id)\n",
    "\n",
    "    if message.text != \"СБРОС и заново\":\n",
    "        # Обработка выбора пользователя\n",
    "\n",
    "        if user_id not in user_choices:\n",
    "            user_choices[user_id] = []\n",
    "\n",
    "        if user_id not in condition_users:\n",
    "            # Добавление выбора пользователя и проверка завершения формы\n",
    "\n",
    "            choice = message.text\n",
    "            choice = condition[choice]\n",
    "            user_choices[user_id].append(choice)\n",
    "\n",
    "            if len(user_choices[user_id]) == len(button_sets):\n",
    "                # Все параметры выбраны, сохранение данных в Redis и отправка сообщения пользователю\n",
    "\n",
    "                json_data = {\n",
    "                    \"id\": user_id,\n",
    "                }\n",
    "\n",
    "                choices = user_choices[user_id]\n",
    "\n",
    "                for item in range(len(choices)):\n",
    "                    data_for_dict = button_sets[item]['question'][9:-1]\n",
    "                    json_data[condition[data_for_dict]] = choices[item]\n",
    "\n",
    "                json_data['image'] = ''\n",
    "\n",
    "                json_file = json.dumps(json_data, ensure_ascii=False)\n",
    "\n",
    "                save_json_file(json_file)\n",
    "\n",
    "                redis_key = user_id\n",
    "                redis_client.set(redis_key, json_file)\n",
    "\n",
    "                # Проверка успешности сохранения в Redis\n",
    "                result = redis_client.get(redis_key)\n",
    "\n",
    "                if result:\n",
    "                    print('Файл JSON успешно сохранен в Redis.')\n",
    "                else:\n",
    "                    print('Не удалось сохранить файл JSON в Redis.')\n",
    "\n",
    "                json_data['condition_user'] = '1'\n",
    "\n",
    "                condition_users.append(user_id)\n",
    "                bot.send_message(chat_id=user_id,\n",
    "                                 text=\"Вы отправили запрос на создание модели дома. Среднее время ожидания: 1 минута\")\n",
    "\n",
    "                user_choices[user_id] = []\n",
    "\n",
    "            if user_id not in condition_users:\n",
    "                send_buttons(chat_id, len(user_choices[user_id]))\n",
    "\n",
    "        else:\n",
    "            # Пользователь уже отправил запрос на создание модели дома\n",
    "            bot.send_message(chat_id=user_id, text=\"Вы уже отправили запрос на создание модели дома. Ожидайте\")\n",
    "\n",
    "    else:\n",
    "        # Сброс выбора и начало заново\n",
    "\n",
    "        keys = r.keys(\"*\")\n",
    "        keys_str = []\n",
    "\n",
    "        for byte_key in keys:\n",
    "            str_var = byte_key.decode('utf-8')\n",
    "            keys_str.append(str_var)\n",
    "\n",
    "        if user_id not in condition_users:\n",
    "            user_choices[user_id] = []\n",
    "            send_buttons(chat_id, 0)\n",
    "\n",
    "        elif (str(user_id in condition_users) == 'True') and (str(user_id not in keys_str) == 'True'):\n",
    "            condition_users.remove(user_id)\n",
    "            send_buttons(chat_id, 0)\n",
    "        else:\n",
    "            bot.send_message(chat_id=user_id, text=\"Вы уже отправили запрос на создание модели дома. Ожидайте\")\n",
    "\n",
    "\n",
    "@async_dec()\n",
    "def send_buttons(chat_id, set_index):\n",
    "    # Отправка пользователю кнопок для выбора\n",
    "    set_data = button_sets[set_index]\n",
    "    question = set_data[\"question\"]\n",
    "    buttons = set_data[\"buttons\"]\n",
    "    markup = types.ReplyKeyboardMarkup(resize_keyboard=True)\n",
    "    markup.add(*[types.KeyboardButton(button) for button in buttons])\n",
    "\n",
    "    bot.send_message(chat_id, question, reply_markup=markup)\n",
    "\n",
    "\n",
    "def save_json_file(json_data):\n",
    "    # Сохранение JSON-файла\n",
    "    print(json_data)\n",
    "\n",
    "\n",
    "bot.polling()"
   ]
  }
 ]
}
