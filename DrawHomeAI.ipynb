{
 "nbformat": 4,
 "nbformat_minor": 0,
 "metadata": {
  "colab": {
   "private_outputs": true,
   "provenance": [
    {
     "file_id": "1oYxhotbXqkoKZkgkGDWyVgXxozd5B3G8",
     "timestamp": 1686686300113
    },
    {
     "file_id": "https://github.com/woctezuma/stable-diffusion-colab/blob/main/stable_diffusion.ipynb",
     "timestamp": 1686402626309
    }
   ],
   "gpuType": "T4"
  },
  "kernelspec": {
   "name": "python3",
   "display_name": "Python 3"
  },
  "language_info": {
   "name": "python"
  },
  "accelerator": "GPU"
 },
 "cells": [
  {
   "cell_type": "code",
   "execution_count": null,
   "metadata": {
    "id": "QuFz5uGi-h6G",
    "cellView": "form"
   },
   "outputs": [],
   "source": [
    "#@title Установка необходимых библиотек\n",
    "%pip install --quiet --upgrade diffusers accelerate mediapy triton scipy ftfy spacy==3.4.4\n",
    "%pip install transformers\n",
    "# Пакет xformers обязателен для создания нескольких изображений размером 768x768\n",
    "%pip install -q xformers==0.0.16rc425"
   ]
  },
  {
   "cell_type": "code",
   "source": [
    "#@title Установка и настройка модели\n",
    "import mediapy as media\n",
    "import torch\n",
    "from diffusers import StableDiffusionPipeline\n",
    "import random\n",
    "from diffusers import PNDMScheduler, DDIMScheduler, LMSDiscreteScheduler, EulerDiscreteScheduler, DPMSolverMultistepScheduler\n",
    "\n",
    "# Настройки модели Diffusion\n",
    "scheduler = None\n",
    "model_id = \"stabilityai/stable-diffusion-2-1\"\n",
    "device = \"cuda\"\n",
    "\n",
    "if model_id.startswith(\"stabilityai/\"):\n",
    "  model_revision = \"fp16\"\n",
    "else:\n",
    "  model_revision = None\n",
    "\n",
    "if scheduler is None:\n",
    "  pipe = StableDiffusionPipeline.from_pretrained(\n",
    "      model_id,\n",
    "      torch_dtype=torch.float16,\n",
    "      revision=model_revision,\n",
    "      )\n",
    "else:\n",
    "  pipe = StableDiffusionPipeline.from_pretrained(\n",
    "      model_id,\n",
    "      scheduler=scheduler,\n",
    "      torch_dtype=torch.float16,\n",
    "      revision=model_revision,\n",
    "      )\n",
    "\n",
    "pipe = pipe.to(device)\n",
    "pipe.enable_xformers_memory_efficient_attention()\n",
    "\n",
    "if model_id.endswith('-base'):\n",
    "  image_length = 512\n",
    "else:\n",
    "  image_length = 768"
   ],
   "metadata": {
    "id": "D9_6Pl2lYIxY",
    "cellView": "form"
   },
   "execution_count": null,
   "outputs": []
  },
  {
   "cell_type": "code",
   "source": [
    "#@title Настройте параметры дома\n",
    "budget = \"$$\" #@param [\"$\", \"$$\", \"$$$\"]\n",
    "size = \"medium\" #@param [\"compact\", \"medium\", \"large\"]\n",
    "number_of_stories = \"two-story\" #@param [\"one-story\", \"two-story\", \"three-story\", \"split-level\"]\n",
    "siding_material = \"brick\" #@param [\"mixed siding\", \"wood\", \"stucco\", \"brick\"]\n",
    "siding_color = \"multi\" #@param [\"white\", \"beige\", \"gray\", \"brown\", \"multi\", \"black\", \"red\", \"yellow\"]\n",
    "roof_type = \"hip\" #@param [\"gable\", \"hip\", \"shed\", \"flat\", \"clipped gable\"]\n",
    "roof_color = \"brown\" #@param [\"gray\", \"black\", \"brown\", \"red\"]\n",
    "additional_requests = \"\" #@param {type:\"string\"}\n",
    "number_of_images = \"4\" #@param [\"2\", \"4\", \"6\", \"8\"]\n",
    "data = {\n",
    "    \"id\": \"474305464\",\n",
    "    \"budget\": budget,\n",
    "    \"size\": size,\n",
    "    \"number of stories\": number_of_stories,\n",
    "    \"siding material\": siding_material,\n",
    "    \"siding color\": siding_color,\n",
    "    \"roof type\": roof_type,\n",
    "    \"roof color\": roof_color,\n",
    "    \"image\": \"\"\n",
    "}"
   ],
   "metadata": {
    "cellView": "form",
    "id": "g9Syf3A8Ykpt"
   },
   "execution_count": null,
   "outputs": []
  },
  {
   "cell_type": "code",
   "source": [
    "#@title Формирование промпта и генерация изображений\n",
    "# Формирование промпта\n",
    "prompt = \"Generate an image of a house with the following specifications:\"\n",
    "\n",
    "for key, value in data.items():\n",
    "    if key != \"id\" and key != \"image\":\n",
    "        prompt += f\"\\n{key.capitalize()}: {value}\"\n",
    "\n",
    "if additional_requests != \"\":\n",
    "    prompt += additional_requests\n",
    "\n",
    "prompt = prompt\n",
    "remove_safety = False\n",
    "num_images = int(number_of_images)\n",
    "seed = random.randint(1, 999999)\n",
    "pipe.safety_checker = None\n",
    "\n",
    "images = pipe(\n",
    "    prompt,\n",
    "    height = image_length,\n",
    "    width = image_length,\n",
    "    num_inference_steps = 25,\n",
    "    guidance_scale = 9,\n",
    "    num_images_per_prompt = num_images,\n",
    "    generator = torch.Generator(\"cuda\").manual_seed(seed)\n",
    "    ).images\n",
    "\n",
    "media.show_images(images)\n",
    "display(f\"Seed: {seed}\")\n",
    "images[0].save(\"output.jpg\")"
   ],
   "metadata": {
    "id": "lSfEPZGmbzXf",
    "cellView": "form"
   },
   "execution_count": null,
   "outputs": []
  }
 ]
}
